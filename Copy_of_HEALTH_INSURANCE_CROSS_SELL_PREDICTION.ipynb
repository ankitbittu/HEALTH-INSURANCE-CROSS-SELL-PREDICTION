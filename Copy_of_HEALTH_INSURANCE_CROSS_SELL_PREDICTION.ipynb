{
  "nbformat": 4,
  "nbformat_minor": 0,
  "metadata": {
    "colab": {
      "name": "Copy of HEALTH INSURANCE CROSS SELL PREDICTION.ipynb",
      "provenance": [],
      "include_colab_link": true
    },
    "kernelspec": {
      "name": "python3",
      "display_name": "Python 3"
    },
    "language_info": {
      "name": "python"
    }
  },
  "cells": [
    {
      "cell_type": "markdown",
      "metadata": {
        "id": "view-in-github",
        "colab_type": "text"
      },
      "source": [
        "<a href=\"https://colab.research.google.com/github/ankitbittu/HEALTH-INSURANCE-CROSS-SELL-PREDICTION/blob/main/Copy_of_HEALTH_INSURANCE_CROSS_SELL_PREDICTION.ipynb\" target=\"_parent\"><img src=\"https://colab.research.google.com/assets/colab-badge.svg\" alt=\"Open In Colab\"/></a>"
      ]
    },
    {
      "cell_type": "markdown",
      "metadata": {
        "id": "LGcl5Bv9ed6u"
      },
      "source": [
        "# **Problem Statement**"
      ]
    },
    {
      "cell_type": "markdown",
      "metadata": {
        "id": "jJAmGx75jJk1"
      },
      "source": [
        "Our client is an Insurance company that has provided Health Insurance to its customers now they need your help in building a model to predict whether the policyholders (customers) from past year will also be interested in Vehicle Insurance provided by the company.\n",
        "\n",
        "An insurance policy is an arrangement by which a company undertakes to provide a guarantee of compensation for specified loss, damage, illness, or death in return for the payment of a specified premium. A premium is a sum of money that the customer needs to pay regularly to an insurance company for this guarantee.\n",
        "\n",
        "For example, you may pay a premium of Rs. 5000 each year for a health insurance cover of Rs. 200,000/- so that if, God forbid, you fall ill and need to be hospitalised in that year, the insurance provider company will bear the cost of hospitalisation etc. for upto Rs. 200,000. Now if you are wondering how can company bear such high hospitalisation cost when it charges a premium of only Rs. 5000/-, that is where the concept of probabilities comes in picture. For example, like you, there may be 100 customers who would be paying a premium of Rs. 5000 every year, but only a few of them (say 2-3) would get hospitalised that year and not everyone. This way everyone shares the risk of everyone else.\n",
        "\n",
        "Just like medical insurance, there is vehicle insurance where every year customer needs to pay a premium of certain amount to insurance provider company so that in case of unfortunate accident by the vehicle, the insurance provider company will provide a compensation (called ‘sum assured’) to the customer.\n",
        "\n",
        "Building a model to predict whether a customer would be interested in Vehicle Insurance is extremely helpful for the company because it can then accordingly plan its communication strategy to reach out to those customers and optimise its business model and revenue.\n",
        "\n",
        "Now, in order to predict, whether the customer would be interested in Vehicle insurance, you have information about demographics (gender, age, region code type), Vehicles (Vehicle Age, Damage), Policy (Premium, sourcing channel) etc."
      ]
    },
    {
      "cell_type": "markdown",
      "metadata": {
        "id": "AzGDqdC4fZ-b"
      },
      "source": [
        "# **Attribute Information**"
      ]
    },
    {
      "cell_type": "markdown",
      "metadata": {
        "id": "oEJxl68MjYbs"
      },
      "source": [
        "1. id :\tUnique ID for the customer\n",
        "\n",
        "2. Gender\t: Gender of the customer\n",
        "\n",
        "3. Age :\tAge of the customer\n",
        "\n",
        "4. Driving_License\t0 : Customer does not have DL, 1 : Customer already has DL\n",
        "\n",
        "5. Region_Code :\tUnique code for the region of the customer\n",
        "\n",
        "6. Previously_Insured\t: 1 : Customer already has Vehicle Insurance, 0 : Customer doesn't have Vehicle Insurance\n",
        "\n",
        "7. Vehicle_Age :\tAge of the Vehicle\n",
        "\n",
        "8. Vehicle_Damage\t :1 : Customer got his/her vehicle damaged in the past. 0 : Customer didn't get his/her vehicle damaged in the past.\n",
        "\n",
        "9. Annual_Premium\t: The amount customer needs to pay as premium in the year\n",
        "\n",
        "10. PolicySalesChannel :\tAnonymized Code for the channel of outreaching to the customer ie. Different Agents, Over Mail, Over Phone, In Person, etc.\n",
        "\n",
        "11. Vintage :\tNumber of Days, Customer has been associated with the company\n",
        "\n",
        "12. Response :\t1 : Customer is interested, 0 : Customer is not interested"
      ]
    },
    {
      "cell_type": "code",
      "metadata": {
        "colab": {
          "base_uri": "https://localhost:8080/"
        },
        "id": "xIGkoGTCtXEK",
        "outputId": "13af5f8e-3258-471d-89aa-84738bab8245"
      },
      "source": [
        "from google.colab import drive\n",
        "drive.mount('/content/drive')"
      ],
      "execution_count": 3,
      "outputs": [
        {
          "output_type": "stream",
          "name": "stdout",
          "text": [
            "Drive already mounted at /content/drive; to attempt to forcibly remount, call drive.mount(\"/content/drive\", force_remount=True).\n"
          ]
        }
      ]
    },
    {
      "cell_type": "code",
      "metadata": {
        "id": "y_t7x91St9ge"
      },
      "source": [
        "import numpy as np\n",
        "import pandas as pd\n",
        "import matplotlib.pyplot as plt\n",
        "import seaborn as sns"
      ],
      "execution_count": 4,
      "outputs": []
    },
    {
      "cell_type": "code",
      "metadata": {
        "colab": {
          "base_uri": "https://localhost:8080/",
          "height": 203
        },
        "id": "sM6GH6L0towH",
        "outputId": "e1b7ae96-5cc9-4b38-bc75-9cbd673f4c97"
      },
      "source": [
        "df = pd.read_csv('/content/drive/MyDrive/Capstone 2/Copy of TRAIN-HEALTH INSURANCE CROSS SELL PREDICTION.csv')\n",
        "df.head()"
      ],
      "execution_count": 5,
      "outputs": [
        {
          "output_type": "execute_result",
          "data": {
            "text/html": [
              "<div>\n",
              "<style scoped>\n",
              "    .dataframe tbody tr th:only-of-type {\n",
              "        vertical-align: middle;\n",
              "    }\n",
              "\n",
              "    .dataframe tbody tr th {\n",
              "        vertical-align: top;\n",
              "    }\n",
              "\n",
              "    .dataframe thead th {\n",
              "        text-align: right;\n",
              "    }\n",
              "</style>\n",
              "<table border=\"1\" class=\"dataframe\">\n",
              "  <thead>\n",
              "    <tr style=\"text-align: right;\">\n",
              "      <th></th>\n",
              "      <th>id</th>\n",
              "      <th>Gender</th>\n",
              "      <th>Age</th>\n",
              "      <th>Driving_License</th>\n",
              "      <th>Region_Code</th>\n",
              "      <th>Previously_Insured</th>\n",
              "      <th>Vehicle_Age</th>\n",
              "      <th>Vehicle_Damage</th>\n",
              "      <th>Annual_Premium</th>\n",
              "      <th>Policy_Sales_Channel</th>\n",
              "      <th>Vintage</th>\n",
              "      <th>Response</th>\n",
              "    </tr>\n",
              "  </thead>\n",
              "  <tbody>\n",
              "    <tr>\n",
              "      <th>0</th>\n",
              "      <td>1</td>\n",
              "      <td>Male</td>\n",
              "      <td>44</td>\n",
              "      <td>1</td>\n",
              "      <td>28.0</td>\n",
              "      <td>0</td>\n",
              "      <td>&gt; 2 Years</td>\n",
              "      <td>Yes</td>\n",
              "      <td>40454.0</td>\n",
              "      <td>26.0</td>\n",
              "      <td>217</td>\n",
              "      <td>1</td>\n",
              "    </tr>\n",
              "    <tr>\n",
              "      <th>1</th>\n",
              "      <td>2</td>\n",
              "      <td>Male</td>\n",
              "      <td>76</td>\n",
              "      <td>1</td>\n",
              "      <td>3.0</td>\n",
              "      <td>0</td>\n",
              "      <td>1-2 Year</td>\n",
              "      <td>No</td>\n",
              "      <td>33536.0</td>\n",
              "      <td>26.0</td>\n",
              "      <td>183</td>\n",
              "      <td>0</td>\n",
              "    </tr>\n",
              "    <tr>\n",
              "      <th>2</th>\n",
              "      <td>3</td>\n",
              "      <td>Male</td>\n",
              "      <td>47</td>\n",
              "      <td>1</td>\n",
              "      <td>28.0</td>\n",
              "      <td>0</td>\n",
              "      <td>&gt; 2 Years</td>\n",
              "      <td>Yes</td>\n",
              "      <td>38294.0</td>\n",
              "      <td>26.0</td>\n",
              "      <td>27</td>\n",
              "      <td>1</td>\n",
              "    </tr>\n",
              "    <tr>\n",
              "      <th>3</th>\n",
              "      <td>4</td>\n",
              "      <td>Male</td>\n",
              "      <td>21</td>\n",
              "      <td>1</td>\n",
              "      <td>11.0</td>\n",
              "      <td>1</td>\n",
              "      <td>&lt; 1 Year</td>\n",
              "      <td>No</td>\n",
              "      <td>28619.0</td>\n",
              "      <td>152.0</td>\n",
              "      <td>203</td>\n",
              "      <td>0</td>\n",
              "    </tr>\n",
              "    <tr>\n",
              "      <th>4</th>\n",
              "      <td>5</td>\n",
              "      <td>Female</td>\n",
              "      <td>29</td>\n",
              "      <td>1</td>\n",
              "      <td>41.0</td>\n",
              "      <td>1</td>\n",
              "      <td>&lt; 1 Year</td>\n",
              "      <td>No</td>\n",
              "      <td>27496.0</td>\n",
              "      <td>152.0</td>\n",
              "      <td>39</td>\n",
              "      <td>0</td>\n",
              "    </tr>\n",
              "  </tbody>\n",
              "</table>\n",
              "</div>"
            ],
            "text/plain": [
              "   id  Gender  Age  ...  Policy_Sales_Channel  Vintage  Response\n",
              "0   1    Male   44  ...                  26.0      217         1\n",
              "1   2    Male   76  ...                  26.0      183         0\n",
              "2   3    Male   47  ...                  26.0       27         1\n",
              "3   4    Male   21  ...                 152.0      203         0\n",
              "4   5  Female   29  ...                 152.0       39         0\n",
              "\n",
              "[5 rows x 12 columns]"
            ]
          },
          "metadata": {},
          "execution_count": 5
        }
      ]
    },
    {
      "cell_type": "code",
      "metadata": {
        "colab": {
          "base_uri": "https://localhost:8080/"
        },
        "id": "H3etJud1xbhv",
        "outputId": "8e2f9e7b-bb6f-4919-b155-9c0055a5ec73"
      },
      "source": [
        "df.shape"
      ],
      "execution_count": 5,
      "outputs": [
        {
          "output_type": "execute_result",
          "data": {
            "text/plain": [
              "(381109, 12)"
            ]
          },
          "metadata": {},
          "execution_count": 5
        }
      ]
    },
    {
      "cell_type": "code",
      "metadata": {
        "colab": {
          "base_uri": "https://localhost:8080/"
        },
        "id": "MyQAfQP6xAMJ",
        "outputId": "afb1c2b8-9401-4ab7-b361-e97e59f2c80f"
      },
      "source": [
        "df.info()"
      ],
      "execution_count": 6,
      "outputs": [
        {
          "output_type": "stream",
          "name": "stdout",
          "text": [
            "<class 'pandas.core.frame.DataFrame'>\n",
            "RangeIndex: 381109 entries, 0 to 381108\n",
            "Data columns (total 12 columns):\n",
            " #   Column                Non-Null Count   Dtype  \n",
            "---  ------                --------------   -----  \n",
            " 0   id                    381109 non-null  int64  \n",
            " 1   Gender                381109 non-null  object \n",
            " 2   Age                   381109 non-null  int64  \n",
            " 3   Driving_License       381109 non-null  int64  \n",
            " 4   Region_Code           381109 non-null  float64\n",
            " 5   Previously_Insured    381109 non-null  int64  \n",
            " 6   Vehicle_Age           381109 non-null  object \n",
            " 7   Vehicle_Damage        381109 non-null  object \n",
            " 8   Annual_Premium        381109 non-null  float64\n",
            " 9   Policy_Sales_Channel  381109 non-null  float64\n",
            " 10  Vintage               381109 non-null  int64  \n",
            " 11  Response              381109 non-null  int64  \n",
            "dtypes: float64(3), int64(6), object(3)\n",
            "memory usage: 34.9+ MB\n"
          ]
        }
      ]
    },
    {
      "cell_type": "code",
      "metadata": {
        "id": "ht4CGFDLxW0B"
      },
      "source": [
        "df.drop('id',axis=1,inplace=True)"
      ],
      "execution_count": 6,
      "outputs": []
    },
    {
      "cell_type": "code",
      "metadata": {
        "colab": {
          "base_uri": "https://localhost:8080/"
        },
        "id": "38GDLtliypbH",
        "outputId": "0af9364c-90e1-4729-d866-9df363dcc7ca"
      },
      "source": [
        "df.isnull().sum()"
      ],
      "execution_count": 7,
      "outputs": [
        {
          "output_type": "execute_result",
          "data": {
            "text/plain": [
              "Gender                  0\n",
              "Age                     0\n",
              "Driving_License         0\n",
              "Region_Code             0\n",
              "Previously_Insured      0\n",
              "Vehicle_Age             0\n",
              "Vehicle_Damage          0\n",
              "Annual_Premium          0\n",
              "Policy_Sales_Channel    0\n",
              "Vintage                 0\n",
              "Response                0\n",
              "dtype: int64"
            ]
          },
          "metadata": {},
          "execution_count": 7
        }
      ]
    },
    {
      "cell_type": "code",
      "metadata": {
        "colab": {
          "base_uri": "https://localhost:8080/",
          "height": 295
        },
        "id": "aVWUX-eizMZl",
        "outputId": "dcb5eece-3f1a-405a-9b54-bf68c739d8ce"
      },
      "source": [
        "df.describe()"
      ],
      "execution_count": 9,
      "outputs": [
        {
          "output_type": "execute_result",
          "data": {
            "text/html": [
              "<div>\n",
              "<style scoped>\n",
              "    .dataframe tbody tr th:only-of-type {\n",
              "        vertical-align: middle;\n",
              "    }\n",
              "\n",
              "    .dataframe tbody tr th {\n",
              "        vertical-align: top;\n",
              "    }\n",
              "\n",
              "    .dataframe thead th {\n",
              "        text-align: right;\n",
              "    }\n",
              "</style>\n",
              "<table border=\"1\" class=\"dataframe\">\n",
              "  <thead>\n",
              "    <tr style=\"text-align: right;\">\n",
              "      <th></th>\n",
              "      <th>Age</th>\n",
              "      <th>Driving_License</th>\n",
              "      <th>Region_Code</th>\n",
              "      <th>Previously_Insured</th>\n",
              "      <th>Annual_Premium</th>\n",
              "      <th>Policy_Sales_Channel</th>\n",
              "      <th>Vintage</th>\n",
              "      <th>Response</th>\n",
              "    </tr>\n",
              "  </thead>\n",
              "  <tbody>\n",
              "    <tr>\n",
              "      <th>count</th>\n",
              "      <td>381109.000000</td>\n",
              "      <td>381109.000000</td>\n",
              "      <td>381109.000000</td>\n",
              "      <td>381109.000000</td>\n",
              "      <td>381109.000000</td>\n",
              "      <td>381109.000000</td>\n",
              "      <td>381109.000000</td>\n",
              "      <td>381109.000000</td>\n",
              "    </tr>\n",
              "    <tr>\n",
              "      <th>mean</th>\n",
              "      <td>38.822584</td>\n",
              "      <td>0.997869</td>\n",
              "      <td>26.388807</td>\n",
              "      <td>0.458210</td>\n",
              "      <td>30564.389581</td>\n",
              "      <td>112.034295</td>\n",
              "      <td>154.347397</td>\n",
              "      <td>0.122563</td>\n",
              "    </tr>\n",
              "    <tr>\n",
              "      <th>std</th>\n",
              "      <td>15.511611</td>\n",
              "      <td>0.046110</td>\n",
              "      <td>13.229888</td>\n",
              "      <td>0.498251</td>\n",
              "      <td>17213.155057</td>\n",
              "      <td>54.203995</td>\n",
              "      <td>83.671304</td>\n",
              "      <td>0.327936</td>\n",
              "    </tr>\n",
              "    <tr>\n",
              "      <th>min</th>\n",
              "      <td>20.000000</td>\n",
              "      <td>0.000000</td>\n",
              "      <td>0.000000</td>\n",
              "      <td>0.000000</td>\n",
              "      <td>2630.000000</td>\n",
              "      <td>1.000000</td>\n",
              "      <td>10.000000</td>\n",
              "      <td>0.000000</td>\n",
              "    </tr>\n",
              "    <tr>\n",
              "      <th>25%</th>\n",
              "      <td>25.000000</td>\n",
              "      <td>1.000000</td>\n",
              "      <td>15.000000</td>\n",
              "      <td>0.000000</td>\n",
              "      <td>24405.000000</td>\n",
              "      <td>29.000000</td>\n",
              "      <td>82.000000</td>\n",
              "      <td>0.000000</td>\n",
              "    </tr>\n",
              "    <tr>\n",
              "      <th>50%</th>\n",
              "      <td>36.000000</td>\n",
              "      <td>1.000000</td>\n",
              "      <td>28.000000</td>\n",
              "      <td>0.000000</td>\n",
              "      <td>31669.000000</td>\n",
              "      <td>133.000000</td>\n",
              "      <td>154.000000</td>\n",
              "      <td>0.000000</td>\n",
              "    </tr>\n",
              "    <tr>\n",
              "      <th>75%</th>\n",
              "      <td>49.000000</td>\n",
              "      <td>1.000000</td>\n",
              "      <td>35.000000</td>\n",
              "      <td>1.000000</td>\n",
              "      <td>39400.000000</td>\n",
              "      <td>152.000000</td>\n",
              "      <td>227.000000</td>\n",
              "      <td>0.000000</td>\n",
              "    </tr>\n",
              "    <tr>\n",
              "      <th>max</th>\n",
              "      <td>85.000000</td>\n",
              "      <td>1.000000</td>\n",
              "      <td>52.000000</td>\n",
              "      <td>1.000000</td>\n",
              "      <td>540165.000000</td>\n",
              "      <td>163.000000</td>\n",
              "      <td>299.000000</td>\n",
              "      <td>1.000000</td>\n",
              "    </tr>\n",
              "  </tbody>\n",
              "</table>\n",
              "</div>"
            ],
            "text/plain": [
              "                 Age  Driving_License  ...        Vintage       Response\n",
              "count  381109.000000    381109.000000  ...  381109.000000  381109.000000\n",
              "mean       38.822584         0.997869  ...     154.347397       0.122563\n",
              "std        15.511611         0.046110  ...      83.671304       0.327936\n",
              "min        20.000000         0.000000  ...      10.000000       0.000000\n",
              "25%        25.000000         1.000000  ...      82.000000       0.000000\n",
              "50%        36.000000         1.000000  ...     154.000000       0.000000\n",
              "75%        49.000000         1.000000  ...     227.000000       0.000000\n",
              "max        85.000000         1.000000  ...     299.000000       1.000000\n",
              "\n",
              "[8 rows x 8 columns]"
            ]
          },
          "metadata": {},
          "execution_count": 9
        }
      ]
    },
    {
      "cell_type": "code",
      "metadata": {
        "colab": {
          "base_uri": "https://localhost:8080/",
          "height": 172
        },
        "id": "w0D4CMod7tii",
        "outputId": "1443b1d9-11bf-4f58-95bb-f93ef7027694"
      },
      "source": [
        "df.describe(include='object')"
      ],
      "execution_count": 8,
      "outputs": [
        {
          "output_type": "execute_result",
          "data": {
            "text/html": [
              "<div>\n",
              "<style scoped>\n",
              "    .dataframe tbody tr th:only-of-type {\n",
              "        vertical-align: middle;\n",
              "    }\n",
              "\n",
              "    .dataframe tbody tr th {\n",
              "        vertical-align: top;\n",
              "    }\n",
              "\n",
              "    .dataframe thead th {\n",
              "        text-align: right;\n",
              "    }\n",
              "</style>\n",
              "<table border=\"1\" class=\"dataframe\">\n",
              "  <thead>\n",
              "    <tr style=\"text-align: right;\">\n",
              "      <th></th>\n",
              "      <th>Gender</th>\n",
              "      <th>Vehicle_Age</th>\n",
              "      <th>Vehicle_Damage</th>\n",
              "    </tr>\n",
              "  </thead>\n",
              "  <tbody>\n",
              "    <tr>\n",
              "      <th>count</th>\n",
              "      <td>381109</td>\n",
              "      <td>381109</td>\n",
              "      <td>381109</td>\n",
              "    </tr>\n",
              "    <tr>\n",
              "      <th>unique</th>\n",
              "      <td>2</td>\n",
              "      <td>3</td>\n",
              "      <td>2</td>\n",
              "    </tr>\n",
              "    <tr>\n",
              "      <th>top</th>\n",
              "      <td>Male</td>\n",
              "      <td>1-2 Year</td>\n",
              "      <td>Yes</td>\n",
              "    </tr>\n",
              "    <tr>\n",
              "      <th>freq</th>\n",
              "      <td>206089</td>\n",
              "      <td>200316</td>\n",
              "      <td>192413</td>\n",
              "    </tr>\n",
              "  </tbody>\n",
              "</table>\n",
              "</div>"
            ],
            "text/plain": [
              "        Gender Vehicle_Age Vehicle_Damage\n",
              "count   381109      381109         381109\n",
              "unique       2           3              2\n",
              "top       Male    1-2 Year            Yes\n",
              "freq    206089      200316         192413"
            ]
          },
          "metadata": {},
          "execution_count": 8
        }
      ]
    },
    {
      "cell_type": "code",
      "metadata": {
        "colab": {
          "base_uri": "https://localhost:8080/"
        },
        "id": "lLr12Lnffebl",
        "outputId": "e508377e-5d32-4aaa-ba07-d39010b2259c"
      },
      "source": [
        "df['Response'].value_counts()"
      ],
      "execution_count": 9,
      "outputs": [
        {
          "output_type": "execute_result",
          "data": {
            "text/plain": [
              "0    334399\n",
              "1     46710\n",
              "Name: Response, dtype: int64"
            ]
          },
          "metadata": {},
          "execution_count": 9
        }
      ]
    },
    {
      "cell_type": "code",
      "metadata": {
        "colab": {
          "base_uri": "https://localhost:8080/",
          "height": 402
        },
        "id": "BjCr9Fzj9b87",
        "outputId": "f660588c-b926-4728-c708-aefd78f72a4b"
      },
      "source": [
        "Percent_response_yes = round((df['Response'].mean() * 100),3)\n",
        "Percent_response_no = round((100 - Percent_response_yes),3)\n",
        "x = [Percent_response_yes, Percent_response_no]\n",
        "labels = ['Response_yes', 'Response_No']\n",
        "explode = [0.1, 0]\n",
        "\n",
        "fig, ax = plt.subplots(figsize=(4,3),dpi = 144)\n",
        "ax.pie(x, labels = labels,explode = explode, autopct='%1.1f%%')\n",
        "ax.set_title('Response')\n",
        "plt.show()"
      ],
      "execution_count": 12,
      "outputs": [
        {
          "output_type": "display_data",
          "data": {
            "image/png": "[encoded data removed]",
            "text/plain": [
              "<Figure size 576x432 with 1 Axes>"
            ]
          },
          "metadata": {}
        }
      ]
    },
    {
      "cell_type": "markdown",
      "metadata": {
        "id": "WYpogbjwKnDu"
      },
      "source": [
        "The data is highly imbalanced.\n",
        "\n",
        "\n"
      ]
    },
    {
      "cell_type": "code",
      "metadata": {
        "colab": {
          "base_uri": "https://localhost:8080/",
          "height": 350
        },
        "id": "YAbW1cOigTpS",
        "outputId": "fa100be6-5857-4381-d5e0-69186727d637"
      },
      "source": [
        "# Age distribution\n",
        "sns.distplot(df['Age'])"
      ],
      "execution_count": 13,
      "outputs": [
        {
          "output_type": "stream",
          "name": "stderr",
          "text": [
            "/usr/local/lib/python3.7/dist-packages/seaborn/distributions.py:2619: FutureWarning: `distplot` is a deprecated function and will be removed in a future version. Please adapt your code to use either `displot` (a figure-level function with similar flexibility) or `histplot` (an axes-level function for histograms).\n",
            "  warnings.warn(msg, FutureWarning)\n"
          ]
        },
        {
          "output_type": "execute_result",
          "data": {
            "text/plain": [
              "<matplotlib.axes._subplots.AxesSubplot at 0x7f9c39d07d10>"
            ]
          },
          "metadata": {},
          "execution_count": 13
        },
        {
          "output_type": "display_data",
          "data": {
            "image/png": "[encoded data removed]",
            "text/plain": [
              "<Figure size 432x288 with 1 Axes>"
            ]
          },
          "metadata": {
            "needs_background": "light"
          }
        }
      ]
    },
    {
      "cell_type": "markdown",
      "metadata": {
        "id": "7aJNAJoVgsjw"
      },
      "source": [
        "Most of the consumers are under the age of 20-30."
      ]
    },
    {
      "cell_type": "code",
      "metadata": {
        "colab": {
          "base_uri": "https://localhost:8080/"
        },
        "id": "kcfBbtYLi12A",
        "outputId": "12ad1448-685b-430e-d001-7f30571eaaf5"
      },
      "source": [
        "df['Gender'].value_counts()"
      ],
      "execution_count": 14,
      "outputs": [
        {
          "output_type": "execute_result",
          "data": {
            "text/plain": [
              "Male      206089\n",
              "Female    175020\n",
              "Name: Gender, dtype: int64"
            ]
          },
          "metadata": {},
          "execution_count": 14
        }
      ]
    },
    {
      "cell_type": "code",
      "metadata": {
        "colab": {
          "base_uri": "https://localhost:8080/",
          "height": 402
        },
        "id": "jnnabiCcii4R",
        "outputId": "60f76749-f0c8-462c-e3ce-68f88d6ff7eb"
      },
      "source": [
        "Percent_male = round(((df['Gender'].value_counts()[0]/(df['Gender'].value_counts()[0] + df['Gender'].value_counts()[1])) * 100),3)\n",
        "Percent_female = round((100 - Percent_male),3)\n",
        "x = [Percent_male, Percent_female]\n",
        "labels = ['Male', 'Female']\n",
        "explode = [0.01, 0]\n",
        "\n",
        "fig, ax = plt.subplots(figsize=(4,3),dpi = 144)\n",
        "ax.pie(x, labels = labels,explode = explode, autopct='%1.1f%%')\n",
        "ax.set_title('Gender')\n",
        "plt.show()"
      ],
      "execution_count": 15,
      "outputs": [
        {
          "output_type": "display_data",
          "data": {
            "image/png": "[encoded data removed]",
            "text/plain": [
              "<Figure size 576x432 with 1 Axes>"
            ]
          },
          "metadata": {}
        }
      ]
    },
    {
      "cell_type": "code",
      "metadata": {
        "colab": {
          "base_uri": "https://localhost:8080/",
          "height": 386
        },
        "id": "ToG9a9mO8Dk5",
        "outputId": "700f90cd-6566-496f-cbf2-1cedba469075"
      },
      "source": [
        "sns.catplot(data=df,x='Gender',col='Response',kind='count')"
      ],
      "execution_count": 16,
      "outputs": [
        {
          "output_type": "execute_result",
          "data": {
            "text/plain": [
              "<seaborn.axisgrid.FacetGrid at 0x7f9c2f3f2290>"
            ]
          },
          "metadata": {},
          "execution_count": 16
        },
        {
          "output_type": "display_data",
          "data": {
            "image/png": "[encoded data removed]",
            "text/plain": [
              "<Figure size 720x360 with 2 Axes>"
            ]
          },
          "metadata": {
            "needs_background": "light"
          }
        }
      ]
    },
    {
      "cell_type": "markdown",
      "metadata": {
        "id": "NUKeRtOL8mKd"
      },
      "source": [
        "Nearly same response for both male and female"
      ]
    },
    {
      "cell_type": "code",
      "metadata": {
        "colab": {
          "base_uri": "https://localhost:8080/"
        },
        "id": "NBwwwwPfARLY",
        "outputId": "460dedaa-e590-4e90-fbd8-59f30fda9075"
      },
      "source": [
        "df['Vehicle_Age'].value_counts()"
      ],
      "execution_count": 17,
      "outputs": [
        {
          "output_type": "execute_result",
          "data": {
            "text/plain": [
              "1-2 Year     200316\n",
              "< 1 Year     164786\n",
              "> 2 Years     16007\n",
              "Name: Vehicle_Age, dtype: int64"
            ]
          },
          "metadata": {},
          "execution_count": 17
        }
      ]
    },
    {
      "cell_type": "code",
      "metadata": {
        "colab": {
          "base_uri": "https://localhost:8080/",
          "height": 354
        },
        "id": "lCm6y6Js84K6",
        "outputId": "d987e0d1-98e6-4d55-863c-edc51b628b59"
      },
      "source": [
        "plt.figure(figsize=(10,8))\n",
        "\n",
        "fig, ax = plt.subplots(figsize=(3,3),dpi = 120)\n",
        "ax.pie(df['Vehicle_Age'].value_counts(),explode=[.1,.1,.1],startangle=45,autopct='%.2f%%',radius=4,labels=['1-2 years','< 1 year','> 2 years'])\n",
        "ax.set_title('Vehical Age')\n",
        "plt.axis('equal')\n",
        "plt.show()"
      ],
      "execution_count": 18,
      "outputs": [
        {
          "output_type": "display_data",
          "data": {
            "text/plain": [
              "<Figure size 720x576 with 0 Axes>"
            ]
          },
          "metadata": {}
        },
        {
          "output_type": "display_data",
          "data": {
            "image/png": "[encoded data removed]",
            "text/plain": [
              "<Figure size 360x360 with 1 Axes>"
            ]
          },
          "metadata": {}
        }
      ]
    },
    {
      "cell_type": "code",
      "metadata": {
        "colab": {
          "base_uri": "https://localhost:8080/",
          "height": 386
        },
        "id": "Xi3eARFA_OlQ",
        "outputId": "821df14d-b0ba-481d-9a2c-997025ce41d6"
      },
      "source": [
        "sns.catplot(data=df,x='Vehicle_Age',col='Response',kind='count')"
      ],
      "execution_count": 19,
      "outputs": [
        {
          "output_type": "execute_result",
          "data": {
            "text/plain": [
              "<seaborn.axisgrid.FacetGrid at 0x7f9c2f2eb990>"
            ]
          },
          "metadata": {},
          "execution_count": 19
        },
        {
          "output_type": "display_data",
          "data": {
            "image/png": "[encoded data removed]",
            "text/plain": [
              "<Figure size 720x360 with 2 Axes>"
            ]
          },
          "metadata": {
            "needs_background": "light"
          }
        }
      ]
    },
    {
      "cell_type": "code",
      "metadata": {
        "colab": {
          "base_uri": "https://localhost:8080/",
          "height": 142
        },
        "id": "t7-Q8Wof_is_",
        "outputId": "ff6d817c-37c8-4269-e806-e07a22994b3c"
      },
      "source": [
        "pd.crosstab(df['Response'], df['Vehicle_Age'])"
      ],
      "execution_count": 20,
      "outputs": [
        {
          "output_type": "execute_result",
          "data": {
            "text/html": [
              "<div>\n",
              "<style scoped>\n",
              "    .dataframe tbody tr th:only-of-type {\n",
              "        vertical-align: middle;\n",
              "    }\n",
              "\n",
              "    .dataframe tbody tr th {\n",
              "        vertical-align: top;\n",
              "    }\n",
              "\n",
              "    .dataframe thead th {\n",
              "        text-align: right;\n",
              "    }\n",
              "</style>\n",
              "<table border=\"1\" class=\"dataframe\">\n",
              "  <thead>\n",
              "    <tr style=\"text-align: right;\">\n",
              "      <th>Vehicle_Age</th>\n",
              "      <th>1-2 Year</th>\n",
              "      <th>&lt; 1 Year</th>\n",
              "      <th>&gt; 2 Years</th>\n",
              "    </tr>\n",
              "    <tr>\n",
              "      <th>Response</th>\n",
              "      <th></th>\n",
              "      <th></th>\n",
              "      <th></th>\n",
              "    </tr>\n",
              "  </thead>\n",
              "  <tbody>\n",
              "    <tr>\n",
              "      <th>0</th>\n",
              "      <td>165510</td>\n",
              "      <td>157584</td>\n",
              "      <td>11305</td>\n",
              "    </tr>\n",
              "    <tr>\n",
              "      <th>1</th>\n",
              "      <td>34806</td>\n",
              "      <td>7202</td>\n",
              "      <td>4702</td>\n",
              "    </tr>\n",
              "  </tbody>\n",
              "</table>\n",
              "</div>"
            ],
            "text/plain": [
              "Vehicle_Age  1-2 Year  < 1 Year  > 2 Years\n",
              "Response                                  \n",
              "0              165510    157584      11305\n",
              "1               34806      7202       4702"
            ]
          },
          "metadata": {},
          "execution_count": 20
        }
      ]
    },
    {
      "cell_type": "code",
      "metadata": {
        "colab": {
          "base_uri": "https://localhost:8080/"
        },
        "id": "NFPODU2MBQcY",
        "outputId": "ddbc84e4-37db-4bb8-e3cd-c4b13d784d25"
      },
      "source": [
        "df['Vehicle_Damage'].value_counts()"
      ],
      "execution_count": 21,
      "outputs": [
        {
          "output_type": "execute_result",
          "data": {
            "text/plain": [
              "Yes    192413\n",
              "No     188696\n",
              "Name: Vehicle_Damage, dtype: int64"
            ]
          },
          "metadata": {},
          "execution_count": 21
        }
      ]
    },
    {
      "cell_type": "code",
      "metadata": {
        "colab": {
          "base_uri": "https://localhost:8080/",
          "height": 354
        },
        "id": "aJmXXsqzDW_g",
        "outputId": "ab788f65-2efd-425b-e09c-3834a0795688"
      },
      "source": [
        "plt.figure(figsize=(10,8))\n",
        "\n",
        "fig, ax = plt.subplots(figsize=(3,3),dpi = 120)\n",
        "ax.pie(df['Vehicle_Damage'].value_counts(),explode=[.1,.1],startangle=45,autopct='%.2f%%',radius=4,labels=['Damaged','Not damaged'])\n",
        "ax.set_title('Vehical Damage')\n",
        "plt.axis('equal')\n",
        "plt.show()"
      ],
      "execution_count": 22,
      "outputs": [
        {
          "output_type": "display_data",
          "data": {
            "text/plain": [
              "<Figure size 720x576 with 0 Axes>"
            ]
          },
          "metadata": {}
        },
        {
          "output_type": "display_data",
          "data": {
            "image/png": "[encoded data removed]",
            "text/plain": [
              "<Figure size 360x360 with 1 Axes>"
            ]
          },
          "metadata": {}
        }
      ]
    },
    {
      "cell_type": "code",
      "metadata": {
        "colab": {
          "base_uri": "https://localhost:8080/",
          "height": 386
        },
        "id": "3mhmUeWuDq_0",
        "outputId": "73719134-7042-40e7-d6a4-854cb5dc1f5e"
      },
      "source": [
        "sns.catplot(data=df,x='Vehicle_Damage',col='Response',kind='count')"
      ],
      "execution_count": 23,
      "outputs": [
        {
          "output_type": "execute_result",
          "data": {
            "text/plain": [
              "<seaborn.axisgrid.FacetGrid at 0x7f9c2f289110>"
            ]
          },
          "metadata": {},
          "execution_count": 23
        },
        {
          "output_type": "display_data",
          "data": {
            "image/png": "[encoded data removed]",
            "text/plain": [
              "<Figure size 720x360 with 2 Axes>"
            ]
          },
          "metadata": {
            "needs_background": "light"
          }
        }
      ]
    },
    {
      "cell_type": "code",
      "metadata": {
        "colab": {
          "base_uri": "https://localhost:8080/",
          "height": 142
        },
        "id": "_SU2GTNXASvc",
        "outputId": "82602cdc-ea83-48ab-d1f9-ae8ec2e404d8"
      },
      "source": [
        "pd.crosstab(df['Response'], df['Vehicle_Damage'])"
      ],
      "execution_count": 24,
      "outputs": [
        {
          "output_type": "execute_result",
          "data": {
            "text/html": [
              "<div>\n",
              "<style scoped>\n",
              "    .dataframe tbody tr th:only-of-type {\n",
              "        vertical-align: middle;\n",
              "    }\n",
              "\n",
              "    .dataframe tbody tr th {\n",
              "        vertical-align: top;\n",
              "    }\n",
              "\n",
              "    .dataframe thead th {\n",
              "        text-align: right;\n",
              "    }\n",
              "</style>\n",
              "<table border=\"1\" class=\"dataframe\">\n",
              "  <thead>\n",
              "    <tr style=\"text-align: right;\">\n",
              "      <th>Vehicle_Damage</th>\n",
              "      <th>No</th>\n",
              "      <th>Yes</th>\n",
              "    </tr>\n",
              "    <tr>\n",
              "      <th>Response</th>\n",
              "      <th></th>\n",
              "      <th></th>\n",
              "    </tr>\n",
              "  </thead>\n",
              "  <tbody>\n",
              "    <tr>\n",
              "      <th>0</th>\n",
              "      <td>187714</td>\n",
              "      <td>146685</td>\n",
              "    </tr>\n",
              "    <tr>\n",
              "      <th>1</th>\n",
              "      <td>982</td>\n",
              "      <td>45728</td>\n",
              "    </tr>\n",
              "  </tbody>\n",
              "</table>\n",
              "</div>"
            ],
            "text/plain": [
              "Vehicle_Damage      No     Yes\n",
              "Response                      \n",
              "0               187714  146685\n",
              "1                  982   45728"
            ]
          },
          "metadata": {},
          "execution_count": 24
        }
      ]
    },
    {
      "cell_type": "code",
      "metadata": {
        "colab": {
          "base_uri": "https://localhost:8080/"
        },
        "id": "PdC3lV9IAwBS",
        "outputId": "4ee8b245-fc1b-496b-b95e-e0a098a5681e"
      },
      "source": [
        "df['Previously_Insured'].value_counts()"
      ],
      "execution_count": 25,
      "outputs": [
        {
          "output_type": "execute_result",
          "data": {
            "text/plain": [
              "0    206481\n",
              "1    174628\n",
              "Name: Previously_Insured, dtype: int64"
            ]
          },
          "metadata": {},
          "execution_count": 25
        }
      ]
    },
    {
      "cell_type": "code",
      "metadata": {
        "colab": {
          "base_uri": "https://localhost:8080/",
          "height": 354
        },
        "id": "WCESoV8-A7AY",
        "outputId": "613a81e8-7f30-43ba-9539-7e90868da80a"
      },
      "source": [
        "plt.figure(figsize=(10,8))\n",
        "\n",
        "fig, ax = plt.subplots(figsize=(3,3),dpi = 120)\n",
        "ax.pie(df['Previously_Insured'].value_counts(),explode=[.1,.1],startangle=45,autopct='%.2f%%',radius=4,labels=['Previously insured','Previously not insured'])\n",
        "ax.set_title('Having previous insurance')\n",
        "plt.axis('equal')\n",
        "plt.show()"
      ],
      "execution_count": 26,
      "outputs": [
        {
          "output_type": "display_data",
          "data": {
            "text/plain": [
              "<Figure size 720x576 with 0 Axes>"
            ]
          },
          "metadata": {}
        },
        {
          "output_type": "display_data",
          "data": {
            "image/png": "[encoded data removed]",
            "text/plain": [
              "<Figure size 360x360 with 1 Axes>"
            ]
          },
          "metadata": {}
        }
      ]
    },
    {
      "cell_type": "code",
      "metadata": {
        "colab": {
          "base_uri": "https://localhost:8080/",
          "height": 386
        },
        "id": "u1SZUX7QBgA7",
        "outputId": "073797b6-d81e-4ea7-dfda-38606ce7dc11"
      },
      "source": [
        "sns.catplot(data=df,x='Previously_Insured',col='Response',kind='count')"
      ],
      "execution_count": 27,
      "outputs": [
        {
          "output_type": "execute_result",
          "data": {
            "text/plain": [
              "<seaborn.axisgrid.FacetGrid at 0x7f9c2f226110>"
            ]
          },
          "metadata": {},
          "execution_count": 27
        },
        {
          "output_type": "display_data",
          "data": {
            "image/png": "[encoded data removed]",
            "text/plain": [
              "<Figure size 720x360 with 2 Axes>"
            ]
          },
          "metadata": {
            "needs_background": "light"
          }
        }
      ]
    },
    {
      "cell_type": "code",
      "metadata": {
        "colab": {
          "base_uri": "https://localhost:8080/",
          "height": 142
        },
        "id": "HiMEb_iBBtaP",
        "outputId": "f46f90f0-28f0-4f09-a1cd-c127519692c5"
      },
      "source": [
        "pd.crosstab(df['Response'], df['Previously_Insured'])"
      ],
      "execution_count": 28,
      "outputs": [
        {
          "output_type": "execute_result",
          "data": {
            "text/html": [
              "<div>\n",
              "<style scoped>\n",
              "    .dataframe tbody tr th:only-of-type {\n",
              "        vertical-align: middle;\n",
              "    }\n",
              "\n",
              "    .dataframe tbody tr th {\n",
              "        vertical-align: top;\n",
              "    }\n",
              "\n",
              "    .dataframe thead th {\n",
              "        text-align: right;\n",
              "    }\n",
              "</style>\n",
              "<table border=\"1\" class=\"dataframe\">\n",
              "  <thead>\n",
              "    <tr style=\"text-align: right;\">\n",
              "      <th>Previously_Insured</th>\n",
              "      <th>0</th>\n",
              "      <th>1</th>\n",
              "    </tr>\n",
              "    <tr>\n",
              "      <th>Response</th>\n",
              "      <th></th>\n",
              "      <th></th>\n",
              "    </tr>\n",
              "  </thead>\n",
              "  <tbody>\n",
              "    <tr>\n",
              "      <th>0</th>\n",
              "      <td>159929</td>\n",
              "      <td>174470</td>\n",
              "    </tr>\n",
              "    <tr>\n",
              "      <th>1</th>\n",
              "      <td>46552</td>\n",
              "      <td>158</td>\n",
              "    </tr>\n",
              "  </tbody>\n",
              "</table>\n",
              "</div>"
            ],
            "text/plain": [
              "Previously_Insured       0       1\n",
              "Response                          \n",
              "0                   159929  174470\n",
              "1                    46552     158"
            ]
          },
          "metadata": {},
          "execution_count": 28
        }
      ]
    },
    {
      "cell_type": "markdown",
      "metadata": {
        "id": "P8xoksm3AFk_"
      },
      "source": [
        "Most of the customers previously insured are not interested taking insurance again."
      ]
    },
    {
      "cell_type": "code",
      "metadata": {
        "colab": {
          "base_uri": "https://localhost:8080/"
        },
        "id": "1LbAsUrcB7ws",
        "outputId": "88bd2f18-445e-44a4-d5d5-ddf5f677a84a"
      },
      "source": [
        "df['Driving_License'].value_counts()"
      ],
      "execution_count": 29,
      "outputs": [
        {
          "output_type": "execute_result",
          "data": {
            "text/plain": [
              "1    380297\n",
              "0       812\n",
              "Name: Driving_License, dtype: int64"
            ]
          },
          "metadata": {},
          "execution_count": 29
        }
      ]
    },
    {
      "cell_type": "code",
      "metadata": {
        "colab": {
          "base_uri": "https://localhost:8080/",
          "height": 354
        },
        "id": "uDQV4lj-CCrA",
        "outputId": "5273233b-d1da-4429-eaa8-d231dbea7b50"
      },
      "source": [
        "plt.figure(figsize=(10,8))\n",
        "\n",
        "fig, ax = plt.subplots(figsize=(3,3),dpi = 120)\n",
        "ax.pie(df['Driving_License'].value_counts(),explode=[.5,.5],startangle=45,autopct='%.2f%%',radius=4,labels=['Having license','Not having license'])\n",
        "ax.set_title('Driving license')\n",
        "plt.axis('equal')\n",
        "plt.show()"
      ],
      "execution_count": 30,
      "outputs": [
        {
          "output_type": "display_data",
          "data": {
            "text/plain": [
              "<Figure size 720x576 with 0 Axes>"
            ]
          },
          "metadata": {}
        },
        {
          "output_type": "display_data",
          "data": {
            "image/png": "[encoded data removed]",
            "text/plain": [
              "<Figure size 360x360 with 1 Axes>"
            ]
          },
          "metadata": {}
        }
      ]
    },
    {
      "cell_type": "markdown",
      "metadata": {
        "id": "NOflM0-jPAZJ"
      },
      "source": [
        "Almost everyone is having driving license. So it is not impacting much. We can drop this feature."
      ]
    },
    {
      "cell_type": "code",
      "metadata": {
        "colab": {
          "base_uri": "https://localhost:8080/",
          "height": 386
        },
        "id": "dfY1WT7b-xJ1",
        "outputId": "c27eaa99-6124-4363-f9d3-25169683f97c"
      },
      "source": [
        "sns.catplot(data=df,x='Driving_License',col='Response',kind='count')"
      ],
      "execution_count": 31,
      "outputs": [
        {
          "output_type": "execute_result",
          "data": {
            "text/plain": [
              "<seaborn.axisgrid.FacetGrid at 0x7f9c2f1ad3d0>"
            ]
          },
          "metadata": {},
          "execution_count": 31
        },
        {
          "output_type": "display_data",
          "data": {
            "image/png": "[encoded data removed]",
            "text/plain": [
              "<Figure size 720x360 with 2 Axes>"
            ]
          },
          "metadata": {
            "needs_background": "light"
          }
        }
      ]
    },
    {
      "cell_type": "markdown",
      "metadata": {
        "id": "zjXsU7nO-8Gx"
      },
      "source": [
        "It is obvious that those customers who have Driving license are responding positively to the vehicle insurance."
      ]
    },
    {
      "cell_type": "code",
      "metadata": {
        "colab": {
          "base_uri": "https://localhost:8080/",
          "height": 600
        },
        "id": "hWY73n0MLERL",
        "outputId": "83f6084c-e754-49d3-d53c-4912c9ecee45"
      },
      "source": [
        "plt.figure(figsize=(10,8))\n",
        "sns.distplot(df['Age'],label='Age')\n",
        "sns.distplot(df['Age'][df['Response']==1])\n",
        "plt.title('Response Vs Age')\n",
        "plt.show()"
      ],
      "execution_count": 32,
      "outputs": [
        {
          "output_type": "stream",
          "name": "stderr",
          "text": [
            "/usr/local/lib/python3.7/dist-packages/seaborn/distributions.py:2619: FutureWarning: `distplot` is a deprecated function and will be removed in a future version. Please adapt your code to use either `displot` (a figure-level function with similar flexibility) or `histplot` (an axes-level function for histograms).\n",
            "  warnings.warn(msg, FutureWarning)\n",
            "/usr/local/lib/python3.7/dist-packages/seaborn/distributions.py:2619: FutureWarning: `distplot` is a deprecated function and will be removed in a future version. Please adapt your code to use either `displot` (a figure-level function with similar flexibility) or `histplot` (an axes-level function for histograms).\n",
            "  warnings.warn(msg, FutureWarning)\n"
          ]
        },
        {
          "output_type": "display_data",
          "data": {
            "image/png": "[encoded data removed]",
            "text/plain": [
              "<Figure size 720x576 with 1 Axes>"
            ]
          },
          "metadata": {
            "needs_background": "light"
          }
        }
      ]
    },
    {
      "cell_type": "markdown",
      "metadata": {
        "id": "5cJjiUyVLsJ1"
      },
      "source": [
        "Young people below 30 are not interested in vehicle insurance.\n",
        "\n",
        "Age group of 40-50 have higher chance of buying the vehicle insurance"
      ]
    },
    {
      "cell_type": "code",
      "metadata": {
        "colab": {
          "base_uri": "https://localhost:8080/",
          "height": 258
        },
        "id": "gdAq4F63CW6t",
        "outputId": "de492f8e-3161-4ba4-e89c-9a267c841fc7"
      },
      "source": [
        "facetgrid = sns.FacetGrid(df,hue=\"Response\",aspect = 4)\n",
        "facetgrid.map(sns.kdeplot,\"Vintage\",shade = True)\n",
        "facetgrid.set(xlim = (0,df[\"Vintage\"].max()))\n",
        "facetgrid.add_legend()\n",
        "plt.title(\"Vintage feature according to Response\")"
      ],
      "execution_count": 33,
      "outputs": [
        {
          "output_type": "execute_result",
          "data": {
            "text/plain": [
              "Text(0.5, 1.0, 'Vintage feature according to Response')"
            ]
          },
          "metadata": {},
          "execution_count": 33
        },
        {
          "output_type": "display_data",
          "data": {
            "image/png": "[encoded data removed]",
            "text/plain": [
              "<Figure size 919.75x216 with 1 Axes>"
            ]
          },
          "metadata": {
            "needs_background": "light"
          }
        }
      ]
    },
    {
      "cell_type": "markdown",
      "metadata": {
        "id": "uFXAToaeFzQp"
      },
      "source": [
        "The target variable Response is not very much affected by Vintage feature. So, it can be dropped."
      ]
    },
    {
      "cell_type": "code",
      "metadata": {
        "colab": {
          "base_uri": "https://localhost:8080/",
          "height": 321
        },
        "id": "XtH8ClL1JugS",
        "outputId": "172718e8-b13c-49b3-ac0d-f14f907c7f76"
      },
      "source": [
        "labels= df['Policy_Sales_Channel'].value_counts().iloc[:15].keys()\n",
        "values= df['Policy_Sales_Channel'].value_counts().iloc[:15]\n",
        "\n",
        "plt.figure(figsize = (15, 5))\n",
        "graph = sns.barplot(x = labels, y = values)\n",
        "\n",
        "for p in graph.patches:\n",
        "        graph.annotate('{:.0f}'.format(p.get_height()), (p.get_x()+0.4, p.get_height()),\n",
        "                    ha='center', va='bottom',\n",
        "                    color= 'black')"
      ],
      "execution_count": 34,
      "outputs": [
        {
          "output_type": "display_data",
          "data": {
            "image/png": "[encoded data removed]",
            "text/plain": [
              "<Figure size 1080x360 with 1 Axes>"
            ]
          },
          "metadata": {
            "needs_background": "light"
          }
        }
      ]
    },
    {
      "cell_type": "markdown",
      "metadata": {
        "id": "fYOWWZXCa3w2"
      },
      "source": [
        "Customer outreach is higher for Sales channel 152, 26, 124, 160"
      ]
    },
    {
      "cell_type": "code",
      "metadata": {
        "colab": {
          "base_uri": "https://localhost:8080/",
          "height": 542
        },
        "id": "k91_wq7pP5K8",
        "outputId": "3071810c-0d24-4dfe-e61e-96f0c63729de"
      },
      "source": [
        "pd.crosstab(index=df['Policy_Sales_Channel'],columns=df['Response']).sort_values(by=1,ascending=False).iloc[:15]\n"
      ],
      "execution_count": 35,
      "outputs": [
        {
          "output_type": "execute_result",
          "data": {
            "text/html": [
              "<div>\n",
              "<style scoped>\n",
              "    .dataframe tbody tr th:only-of-type {\n",
              "        vertical-align: middle;\n",
              "    }\n",
              "\n",
              "    .dataframe tbody tr th {\n",
              "        vertical-align: top;\n",
              "    }\n",
              "\n",
              "    .dataframe thead th {\n",
              "        text-align: right;\n",
              "    }\n",
              "</style>\n",
              "<table border=\"1\" class=\"dataframe\">\n",
              "  <thead>\n",
              "    <tr style=\"text-align: right;\">\n",
              "      <th>Response</th>\n",
              "      <th>0</th>\n",
              "      <th>1</th>\n",
              "    </tr>\n",
              "    <tr>\n",
              "      <th>Policy_Sales_Channel</th>\n",
              "      <th></th>\n",
              "      <th></th>\n",
              "    </tr>\n",
              "  </thead>\n",
              "  <tbody>\n",
              "    <tr>\n",
              "      <th>26.0</th>\n",
              "      <td>63809</td>\n",
              "      <td>15891</td>\n",
              "    </tr>\n",
              "    <tr>\n",
              "      <th>124.0</th>\n",
              "      <td>59999</td>\n",
              "      <td>13996</td>\n",
              "    </tr>\n",
              "    <tr>\n",
              "      <th>152.0</th>\n",
              "      <td>130926</td>\n",
              "      <td>3858</td>\n",
              "    </tr>\n",
              "    <tr>\n",
              "      <th>156.0</th>\n",
              "      <td>8364</td>\n",
              "      <td>2297</td>\n",
              "    </tr>\n",
              "    <tr>\n",
              "      <th>157.0</th>\n",
              "      <td>4890</td>\n",
              "      <td>1794</td>\n",
              "    </tr>\n",
              "    <tr>\n",
              "      <th>122.0</th>\n",
              "      <td>8210</td>\n",
              "      <td>1720</td>\n",
              "    </tr>\n",
              "    <tr>\n",
              "      <th>154.0</th>\n",
              "      <td>4519</td>\n",
              "      <td>1474</td>\n",
              "    </tr>\n",
              "    <tr>\n",
              "      <th>163.0</th>\n",
              "      <td>2013</td>\n",
              "      <td>880</td>\n",
              "    </tr>\n",
              "    <tr>\n",
              "      <th>160.0</th>\n",
              "      <td>21304</td>\n",
              "      <td>475</td>\n",
              "    </tr>\n",
              "    <tr>\n",
              "      <th>155.0</th>\n",
              "      <td>839</td>\n",
              "      <td>395</td>\n",
              "    </tr>\n",
              "    <tr>\n",
              "      <th>25.0</th>\n",
              "      <td>1479</td>\n",
              "      <td>369</td>\n",
              "    </tr>\n",
              "    <tr>\n",
              "      <th>13.0</th>\n",
              "      <td>1590</td>\n",
              "      <td>275</td>\n",
              "    </tr>\n",
              "    <tr>\n",
              "      <th>55.0</th>\n",
              "      <td>1075</td>\n",
              "      <td>189</td>\n",
              "    </tr>\n",
              "    <tr>\n",
              "      <th>7.0</th>\n",
              "      <td>1416</td>\n",
              "      <td>182</td>\n",
              "    </tr>\n",
              "    <tr>\n",
              "      <th>31.0</th>\n",
              "      <td>471</td>\n",
              "      <td>160</td>\n",
              "    </tr>\n",
              "  </tbody>\n",
              "</table>\n",
              "</div>"
            ],
            "text/plain": [
              "Response                   0      1\n",
              "Policy_Sales_Channel               \n",
              "26.0                   63809  15891\n",
              "124.0                  59999  13996\n",
              "152.0                 130926   3858\n",
              "156.0                   8364   2297\n",
              "157.0                   4890   1794\n",
              "122.0                   8210   1720\n",
              "154.0                   4519   1474\n",
              "163.0                   2013    880\n",
              "160.0                  21304    475\n",
              "155.0                    839    395\n",
              "25.0                    1479    369\n",
              "13.0                    1590    275\n",
              "55.0                    1075    189\n",
              "7.0                     1416    182\n",
              "31.0                     471    160"
            ]
          },
          "metadata": {},
          "execution_count": 35
        }
      ]
    },
    {
      "cell_type": "markdown",
      "metadata": {
        "id": "ZCEkLpe7WwOO"
      },
      "source": [
        "Sales channel 26 and 124 are able to sell more number to insurance."
      ]
    },
    {
      "cell_type": "code",
      "metadata": {
        "colab": {
          "base_uri": "https://localhost:8080/",
          "height": 320
        },
        "id": "Aum3fjj5XFsk",
        "outputId": "eb99f7de-be10-4311-c36d-585c9788e176"
      },
      "source": [
        "labels= df['Region_Code'].value_counts().iloc[:15].keys()\n",
        "values= df['Region_Code'].value_counts().iloc[:15]\n",
        "\n",
        "plt.figure(figsize = (15, 5))\n",
        "graph = sns.barplot(x = labels, y = values)\n",
        "\n",
        "for p in graph.patches:\n",
        "        graph.annotate('{:.0f}'.format(p.get_height()), (p.get_x()+0.4, p.get_height()),\n",
        "                    ha='center', va='bottom',\n",
        "                    color= 'black')"
      ],
      "execution_count": 36,
      "outputs": [
        {
          "output_type": "display_data",
          "data": {
            "image/png": "[encoded data removed]",
            "text/plain": [
              "<Figure size 1080x360 with 1 Axes>"
            ]
          },
          "metadata": {
            "needs_background": "light"
          }
        }
      ]
    },
    {
      "cell_type": "markdown",
      "metadata": {
        "id": "058lOgDQbD5k"
      },
      "source": [
        "Most number of customers are in the Region code 28, 8, 46, 41"
      ]
    },
    {
      "cell_type": "code",
      "metadata": {
        "colab": {
          "base_uri": "https://localhost:8080/",
          "height": 542
        },
        "id": "lT2B_7l4aNeS",
        "outputId": "9d0bcc02-c74d-4096-aa33-1af829976260"
      },
      "source": [
        "pd.crosstab(index=df['Region_Code'],columns=df['Response']).sort_values(by=1,ascending=False).iloc[:15]"
      ],
      "execution_count": 37,
      "outputs": [
        {
          "output_type": "execute_result",
          "data": {
            "text/html": [
              "<div>\n",
              "<style scoped>\n",
              "    .dataframe tbody tr th:only-of-type {\n",
              "        vertical-align: middle;\n",
              "    }\n",
              "\n",
              "    .dataframe tbody tr th {\n",
              "        vertical-align: top;\n",
              "    }\n",
              "\n",
              "    .dataframe thead th {\n",
              "        text-align: right;\n",
              "    }\n",
              "</style>\n",
              "<table border=\"1\" class=\"dataframe\">\n",
              "  <thead>\n",
              "    <tr style=\"text-align: right;\">\n",
              "      <th>Response</th>\n",
              "      <th>0</th>\n",
              "      <th>1</th>\n",
              "    </tr>\n",
              "    <tr>\n",
              "      <th>Region_Code</th>\n",
              "      <th></th>\n",
              "      <th></th>\n",
              "    </tr>\n",
              "  </thead>\n",
              "  <tbody>\n",
              "    <tr>\n",
              "      <th>28.0</th>\n",
              "      <td>86498</td>\n",
              "      <td>19917</td>\n",
              "    </tr>\n",
              "    <tr>\n",
              "      <th>8.0</th>\n",
              "      <td>30620</td>\n",
              "      <td>3257</td>\n",
              "    </tr>\n",
              "    <tr>\n",
              "      <th>41.0</th>\n",
              "      <td>16039</td>\n",
              "      <td>2224</td>\n",
              "    </tr>\n",
              "    <tr>\n",
              "      <th>46.0</th>\n",
              "      <td>17717</td>\n",
              "      <td>2032</td>\n",
              "    </tr>\n",
              "    <tr>\n",
              "      <th>29.0</th>\n",
              "      <td>9700</td>\n",
              "      <td>1365</td>\n",
              "    </tr>\n",
              "    <tr>\n",
              "      <th>3.0</th>\n",
              "      <td>8070</td>\n",
              "      <td>1181</td>\n",
              "    </tr>\n",
              "    <tr>\n",
              "      <th>11.0</th>\n",
              "      <td>8191</td>\n",
              "      <td>1041</td>\n",
              "    </tr>\n",
              "    <tr>\n",
              "      <th>15.0</th>\n",
              "      <td>12350</td>\n",
              "      <td>958</td>\n",
              "    </tr>\n",
              "    <tr>\n",
              "      <th>30.0</th>\n",
              "      <td>11291</td>\n",
              "      <td>900</td>\n",
              "    </tr>\n",
              "    <tr>\n",
              "      <th>35.0</th>\n",
              "      <td>6077</td>\n",
              "      <td>865</td>\n",
              "    </tr>\n",
              "    <tr>\n",
              "      <th>33.0</th>\n",
              "      <td>6894</td>\n",
              "      <td>760</td>\n",
              "    </tr>\n",
              "    <tr>\n",
              "      <th>36.0</th>\n",
              "      <td>8094</td>\n",
              "      <td>703</td>\n",
              "    </tr>\n",
              "    <tr>\n",
              "      <th>18.0</th>\n",
              "      <td>4475</td>\n",
              "      <td>678</td>\n",
              "    </tr>\n",
              "    <tr>\n",
              "      <th>47.0</th>\n",
              "      <td>6784</td>\n",
              "      <td>652</td>\n",
              "    </tr>\n",
              "    <tr>\n",
              "      <th>50.0</th>\n",
              "      <td>9601</td>\n",
              "      <td>642</td>\n",
              "    </tr>\n",
              "  </tbody>\n",
              "</table>\n",
              "</div>"
            ],
            "text/plain": [
              "Response         0      1\n",
              "Region_Code              \n",
              "28.0         86498  19917\n",
              "8.0          30620   3257\n",
              "41.0         16039   2224\n",
              "46.0         17717   2032\n",
              "29.0          9700   1365\n",
              "3.0           8070   1181\n",
              "11.0          8191   1041\n",
              "15.0         12350    958\n",
              "30.0         11291    900\n",
              "35.0          6077    865\n",
              "33.0          6894    760\n",
              "36.0          8094    703\n",
              "18.0          4475    678\n",
              "47.0          6784    652\n",
              "50.0          9601    642"
            ]
          },
          "metadata": {},
          "execution_count": 37
        }
      ]
    },
    {
      "cell_type": "markdown",
      "metadata": {
        "id": "nd4OXNTji_dw"
      },
      "source": [
        "Customers from region 28 are mostly interested in taking vehicle insurance."
      ]
    },
    {
      "cell_type": "code",
      "metadata": {
        "colab": {
          "base_uri": "https://localhost:8080/",
          "height": 258
        },
        "id": "CFKJYvCRGFRg",
        "outputId": "898dc600-4987-43a7-a508-7866b17755f1"
      },
      "source": [
        "facetgrid = sns.FacetGrid(df,hue=\"Response\",aspect = 4)\n",
        "facetgrid.map(sns.kdeplot,\"Policy_Sales_Channel\",shade = True)\n",
        "facetgrid.set(xlim = (0,df[\"Policy_Sales_Channel\"].max()))\n",
        "facetgrid.add_legend()\n",
        "plt.title('Policy_Sales_Channel distribution according to Response')"
      ],
      "execution_count": 38,
      "outputs": [
        {
          "output_type": "execute_result",
          "data": {
            "text/plain": [
              "Text(0.5, 1.0, 'Policy_Sales_Channel distribution according to Response')"
            ]
          },
          "metadata": {},
          "execution_count": 38
        },
        {
          "output_type": "display_data",
          "data": {
            "image/png": "[encoded data removed]",
            "text/plain": [
              "<Figure size 919.75x216 with 1 Axes>"
            ]
          },
          "metadata": {
            "needs_background": "light"
          }
        }
      ]
    },
    {
      "cell_type": "code",
      "metadata": {
        "colab": {
          "base_uri": "https://localhost:8080/",
          "height": 362
        },
        "id": "h4qpPFxfNK-N",
        "outputId": "d7781970-f738-41cc-f2d9-a5f29cdeb377"
      },
      "source": [
        "sns.distplot(df['Annual_Premium'])"
      ],
      "execution_count": 39,
      "outputs": [
        {
          "output_type": "stream",
          "name": "stderr",
          "text": [
            "/usr/local/lib/python3.7/dist-packages/seaborn/distributions.py:2619: FutureWarning: `distplot` is a deprecated function and will be removed in a future version. Please adapt your code to use either `displot` (a figure-level function with similar flexibility) or `histplot` (an axes-level function for histograms).\n",
            "  warnings.warn(msg, FutureWarning)\n"
          ]
        },
        {
          "output_type": "execute_result",
          "data": {
            "text/plain": [
              "<matplotlib.axes._subplots.AxesSubplot at 0x7f9c2eb7b390>"
            ]
          },
          "metadata": {},
          "execution_count": 39
        },
        {
          "output_type": "display_data",
          "data": {
            "image/png": "[encoded data removed]",
            "text/plain": [
              "<Figure size 432x288 with 1 Axes>"
            ]
          },
          "metadata": {
            "needs_background": "light"
          }
        }
      ]
    },
    {
      "cell_type": "code",
      "metadata": {
        "colab": {
          "base_uri": "https://localhost:8080/",
          "height": 247
        },
        "id": "hi_cG93Zjfu6",
        "outputId": "17b87824-da61-42ea-9af8-bec6da042c1e"
      },
      "source": [
        "facetgrid = sns.FacetGrid(df,hue=\"Response\",aspect = 4)\n",
        "facetgrid.map(sns.kdeplot,\"Annual_Premium\",shade = True)\n",
        "facetgrid.set(xlim = (0,df[\"Annual_Premium\"].max()))\n",
        "facetgrid.add_legend()\n",
        "plt.title('Policy_Sales_Channel distribution according to Response')"
      ],
      "execution_count": 40,
      "outputs": [
        {
          "output_type": "execute_result",
          "data": {
            "text/plain": [
              "Text(0.5, 1.0, 'Policy_Sales_Channel distribution according to Response')"
            ]
          },
          "metadata": {},
          "execution_count": 40
        },
        {
          "output_type": "display_data",
          "data": {
            "image/png": "[encoded data removed]",
            "text/plain": [
              "<Figure size 919.75x216 with 1 Axes>"
            ]
          },
          "metadata": {
            "needs_background": "light"
          }
        }
      ]
    },
    {
      "cell_type": "code",
      "metadata": {
        "colab": {
          "base_uri": "https://localhost:8080/",
          "height": 450
        },
        "id": "ZhXrcKE2lGwi",
        "outputId": "43be8735-c9f8-4f5a-85c1-f19316d99b21"
      },
      "source": [
        "df.groupby(['Vehicle_Age','Response','Previously_Insured']).agg({'Annual_Premium':np.mean})"
      ],
      "execution_count": 41,
      "outputs": [
        {
          "output_type": "execute_result",
          "data": {
            "text/html": [
              "<div>\n",
              "<style scoped>\n",
              "    .dataframe tbody tr th:only-of-type {\n",
              "        vertical-align: middle;\n",
              "    }\n",
              "\n",
              "    .dataframe tbody tr th {\n",
              "        vertical-align: top;\n",
              "    }\n",
              "\n",
              "    .dataframe thead th {\n",
              "        text-align: right;\n",
              "    }\n",
              "</style>\n",
              "<table border=\"1\" class=\"dataframe\">\n",
              "  <thead>\n",
              "    <tr style=\"text-align: right;\">\n",
              "      <th></th>\n",
              "      <th></th>\n",
              "      <th></th>\n",
              "      <th>Annual_Premium</th>\n",
              "    </tr>\n",
              "    <tr>\n",
              "      <th>Vehicle_Age</th>\n",
              "      <th>Response</th>\n",
              "      <th>Previously_Insured</th>\n",
              "      <th></th>\n",
              "    </tr>\n",
              "  </thead>\n",
              "  <tbody>\n",
              "    <tr>\n",
              "      <th rowspan=\"4\" valign=\"top\">1-2 Year</th>\n",
              "      <th rowspan=\"2\" valign=\"top\">0</th>\n",
              "      <th>0</th>\n",
              "      <td>30377.012784</td>\n",
              "    </tr>\n",
              "    <tr>\n",
              "      <th>1</th>\n",
              "      <td>30454.250038</td>\n",
              "    </tr>\n",
              "    <tr>\n",
              "      <th rowspan=\"2\" valign=\"top\">1</th>\n",
              "      <th>0</th>\n",
              "      <td>31088.267264</td>\n",
              "    </tr>\n",
              "    <tr>\n",
              "      <th>1</th>\n",
              "      <td>26520.621053</td>\n",
              "    </tr>\n",
              "    <tr>\n",
              "      <th rowspan=\"4\" valign=\"top\">&lt; 1 Year</th>\n",
              "      <th rowspan=\"2\" valign=\"top\">0</th>\n",
              "      <th>0</th>\n",
              "      <td>28708.348902</td>\n",
              "    </tr>\n",
              "    <tr>\n",
              "      <th>1</th>\n",
              "      <td>30764.184322</td>\n",
              "    </tr>\n",
              "    <tr>\n",
              "      <th rowspan=\"2\" valign=\"top\">1</th>\n",
              "      <th>0</th>\n",
              "      <td>29848.241036</td>\n",
              "    </tr>\n",
              "    <tr>\n",
              "      <th>1</th>\n",
              "      <td>27429.951613</td>\n",
              "    </tr>\n",
              "    <tr>\n",
              "      <th rowspan=\"4\" valign=\"top\">&gt; 2 Years</th>\n",
              "      <th rowspan=\"2\" valign=\"top\">0</th>\n",
              "      <th>0</th>\n",
              "      <td>34605.633925</td>\n",
              "    </tr>\n",
              "    <tr>\n",
              "      <th>1</th>\n",
              "      <td>28363.666667</td>\n",
              "    </tr>\n",
              "    <tr>\n",
              "      <th rowspan=\"2\" valign=\"top\">1</th>\n",
              "      <th>0</th>\n",
              "      <td>38238.067220</td>\n",
              "    </tr>\n",
              "    <tr>\n",
              "      <th>1</th>\n",
              "      <td>28616.000000</td>\n",
              "    </tr>\n",
              "  </tbody>\n",
              "</table>\n",
              "</div>"
            ],
            "text/plain": [
              "                                         Annual_Premium\n",
              "Vehicle_Age Response Previously_Insured                \n",
              "1-2 Year    0        0                     30377.012784\n",
              "                     1                     30454.250038\n",
              "            1        0                     31088.267264\n",
              "                     1                     26520.621053\n",
              "< 1 Year    0        0                     28708.348902\n",
              "                     1                     30764.184322\n",
              "            1        0                     29848.241036\n",
              "                     1                     27429.951613\n",
              "> 2 Years   0        0                     34605.633925\n",
              "                     1                     28363.666667\n",
              "            1        0                     38238.067220\n",
              "                     1                     28616.000000"
            ]
          },
          "metadata": {},
          "execution_count": 41
        }
      ]
    },
    {
      "cell_type": "code",
      "metadata": {
        "colab": {
          "base_uri": "https://localhost:8080/"
        },
        "id": "AORnLQa_mAWx",
        "outputId": "962d94c5-030d-4eca-ad34-c77016742bb6"
      },
      "source": [
        "df.groupby(['Vehicle_Age','Vehicle_Damage','Previously_Insured'])['Response'].value_counts()"
      ],
      "execution_count": 5,
      "outputs": [
        {
          "output_type": "execute_result",
          "data": {
            "text/plain": [
              "Vehicle_Age  Vehicle_Damage  Previously_Insured  Response\n",
              "1-2 Year     No              0                   0            12106\n",
              "                                                 1              557\n",
              "                             1                   0            59389\n",
              "                                                 1               39\n",
              "             Yes             0                   0            88174\n",
              "                                                 1            34154\n",
              "                             1                   0             5841\n",
              "                                                 1               56\n",
              "< 1 Year     No              0                   0            10966\n",
              "                                                 1              353\n",
              "                             1                   0           105238\n",
              "                                                 1               33\n",
              "             Yes             0                   0            37423\n",
              "                                                 1             6787\n",
              "                             1                   0             3957\n",
              "                                                 1               29\n",
              "> 2 Years    No              0                   0                8\n",
              "                             1                   0                7\n",
              "             Yes             0                   0            11252\n",
              "                                                 1             4701\n",
              "                             1                   0               38\n",
              "                                                 1                1\n",
              "Name: Response, dtype: int64"
            ]
          },
          "metadata": {},
          "execution_count": 5
        }
      ]
    },
    {
      "cell_type": "code",
      "metadata": {
        "colab": {
          "base_uri": "https://localhost:8080/",
          "height": 746
        },
        "id": "Wx2r9-mDsVfy",
        "outputId": "160e04c6-6a94-413a-e83e-4b0d502a8ec9"
      },
      "source": [
        "sns.catplot(data=df, x='Vehicle_Age', hue='Response', col='Vehicle_Damage', row='Previously_Insured', kind='count')"
      ],
      "execution_count": 16,
      "outputs": [
        {
          "output_type": "execute_result",
          "data": {
            "text/plain": [
              "<seaborn.axisgrid.FacetGrid at 0x7f70616a7d10>"
            ]
          },
          "metadata": {},
          "execution_count": 16
        },
        {
          "output_type": "display_data",
          "data": {
            "image/png": "[encoded data removed]",
            "text/plain": [
              "<Figure size 775.75x720 with 4 Axes>"
            ]
          },
          "metadata": {
            "needs_background": "light"
          }
        }
      ]
    },
    {
      "cell_type": "markdown",
      "metadata": {
        "id": "O7nlGfQ-3Y1b"
      },
      "source": [
        "From the above plot, it can be seen that all the damaged vehicles which are not previously insured are interested in taking Vehicle insurance.\n",
        "\n",
        "Customers already having the previous insurance are not interested in taking the new insurance."
      ]
    },
    {
      "cell_type": "markdown",
      "metadata": {
        "id": "ExUTSi1rsqlO"
      },
      "source": [
        "Vehicle Damage is clearly related to Response, clients whose vehicle never damaged didn't opt for Vehicle Insurance"
      ]
    },
    {
      "cell_type": "markdown",
      "metadata": {
        "id": "ZoGcw9Une3_w"
      },
      "source": [
        "# Dropping Driving License"
      ]
    },
    {
      "cell_type": "code",
      "metadata": {
        "colab": {
          "base_uri": "https://localhost:8080/",
          "height": 203
        },
        "id": "dpFR86lde_Az",
        "outputId": "5fbea10f-1891-497e-eeda-931bba10b7d4"
      },
      "source": [
        "df = df.drop(['Driving_License'],axis=1)\n",
        "df.head()"
      ],
      "execution_count": 10,
      "outputs": [
        {
          "output_type": "execute_result",
          "data": {
            "text/html": [
              "<div>\n",
              "<style scoped>\n",
              "    .dataframe tbody tr th:only-of-type {\n",
              "        vertical-align: middle;\n",
              "    }\n",
              "\n",
              "    .dataframe tbody tr th {\n",
              "        vertical-align: top;\n",
              "    }\n",
              "\n",
              "    .dataframe thead th {\n",
              "        text-align: right;\n",
              "    }\n",
              "</style>\n",
              "<table border=\"1\" class=\"dataframe\">\n",
              "  <thead>\n",
              "    <tr style=\"text-align: right;\">\n",
              "      <th></th>\n",
              "      <th>Gender</th>\n",
              "      <th>Age</th>\n",
              "      <th>Region_Code</th>\n",
              "      <th>Previously_Insured</th>\n",
              "      <th>Vehicle_Age</th>\n",
              "      <th>Vehicle_Damage</th>\n",
              "      <th>Annual_Premium</th>\n",
              "      <th>Policy_Sales_Channel</th>\n",
              "      <th>Vintage</th>\n",
              "      <th>Response</th>\n",
              "    </tr>\n",
              "  </thead>\n",
              "  <tbody>\n",
              "    <tr>\n",
              "      <th>0</th>\n",
              "      <td>Male</td>\n",
              "      <td>44</td>\n",
              "      <td>28.0</td>\n",
              "      <td>0</td>\n",
              "      <td>&gt; 2 Years</td>\n",
              "      <td>Yes</td>\n",
              "      <td>40454.0</td>\n",
              "      <td>26.0</td>\n",
              "      <td>217</td>\n",
              "      <td>1</td>\n",
              "    </tr>\n",
              "    <tr>\n",
              "      <th>1</th>\n",
              "      <td>Male</td>\n",
              "      <td>76</td>\n",
              "      <td>3.0</td>\n",
              "      <td>0</td>\n",
              "      <td>1-2 Year</td>\n",
              "      <td>No</td>\n",
              "      <td>33536.0</td>\n",
              "      <td>26.0</td>\n",
              "      <td>183</td>\n",
              "      <td>0</td>\n",
              "    </tr>\n",
              "    <tr>\n",
              "      <th>2</th>\n",
              "      <td>Male</td>\n",
              "      <td>47</td>\n",
              "      <td>28.0</td>\n",
              "      <td>0</td>\n",
              "      <td>&gt; 2 Years</td>\n",
              "      <td>Yes</td>\n",
              "      <td>38294.0</td>\n",
              "      <td>26.0</td>\n",
              "      <td>27</td>\n",
              "      <td>1</td>\n",
              "    </tr>\n",
              "    <tr>\n",
              "      <th>3</th>\n",
              "      <td>Male</td>\n",
              "      <td>21</td>\n",
              "      <td>11.0</td>\n",
              "      <td>1</td>\n",
              "      <td>&lt; 1 Year</td>\n",
              "      <td>No</td>\n",
              "      <td>28619.0</td>\n",
              "      <td>152.0</td>\n",
              "      <td>203</td>\n",
              "      <td>0</td>\n",
              "    </tr>\n",
              "    <tr>\n",
              "      <th>4</th>\n",
              "      <td>Female</td>\n",
              "      <td>29</td>\n",
              "      <td>41.0</td>\n",
              "      <td>1</td>\n",
              "      <td>&lt; 1 Year</td>\n",
              "      <td>No</td>\n",
              "      <td>27496.0</td>\n",
              "      <td>152.0</td>\n",
              "      <td>39</td>\n",
              "      <td>0</td>\n",
              "    </tr>\n",
              "  </tbody>\n",
              "</table>\n",
              "</div>"
            ],
            "text/plain": [
              "   Gender  Age  Region_Code  ...  Policy_Sales_Channel Vintage Response\n",
              "0    Male   44         28.0  ...                  26.0     217        1\n",
              "1    Male   76          3.0  ...                  26.0     183        0\n",
              "2    Male   47         28.0  ...                  26.0      27        1\n",
              "3    Male   21         11.0  ...                 152.0     203        0\n",
              "4  Female   29         41.0  ...                 152.0      39        0\n",
              "\n",
              "[5 rows x 10 columns]"
            ]
          },
          "metadata": {},
          "execution_count": 10
        }
      ]
    },
    {
      "cell_type": "markdown",
      "metadata": {
        "id": "yjLuudUZffo-"
      },
      "source": [
        "Age and Annual Premium feature are rightly skewed"
      ]
    },
    {
      "cell_type": "markdown",
      "metadata": {
        "id": "9EuNDjJaTAVi"
      },
      "source": [
        "# Scaling Annual Premium and Age"
      ]
    },
    {
      "cell_type": "code",
      "metadata": {
        "id": "4oShB3W6TEr6"
      },
      "source": [
        "df['Age'] = np.log(df['Age'])\n",
        "df['Annual_Premium'] = np.log(df['Annual_Premium'])"
      ],
      "execution_count": 11,
      "outputs": []
    },
    {
      "cell_type": "code",
      "metadata": {
        "colab": {
          "base_uri": "https://localhost:8080/"
        },
        "id": "H4lDP-eWgBgI",
        "outputId": "351e7a3d-3217-4d03-e155-d60a9c9bc186"
      },
      "source": [
        "df[\"Age\"]"
      ],
      "execution_count": 206,
      "outputs": [
        {
          "output_type": "execute_result",
          "data": {
            "text/plain": [
              "0         3.784190\n",
              "1         4.330733\n",
              "2         3.850148\n",
              "3         3.044522\n",
              "4         3.367296\n",
              "            ...   \n",
              "381104    4.304065\n",
              "381105    3.401197\n",
              "381106    3.044522\n",
              "381107    4.219508\n",
              "381108    3.828641\n",
              "Name: Age, Length: 381109, dtype: float64"
            ]
          },
          "metadata": {},
          "execution_count": 206
        }
      ]
    },
    {
      "cell_type": "code",
      "metadata": {
        "colab": {
          "base_uri": "https://localhost:8080/",
          "height": 350
        },
        "id": "bIO8hoNVg5O-",
        "outputId": "9ca0ba1c-12de-413b-cca6-f31e13d57737"
      },
      "source": [
        "sns.distplot(df['Age'])"
      ],
      "execution_count": 207,
      "outputs": [
        {
          "output_type": "stream",
          "name": "stderr",
          "text": [
            "/usr/local/lib/python3.7/dist-packages/seaborn/distributions.py:2619: FutureWarning: `distplot` is a deprecated function and will be removed in a future version. Please adapt your code to use either `displot` (a figure-level function with similar flexibility) or `histplot` (an axes-level function for histograms).\n",
            "  warnings.warn(msg, FutureWarning)\n"
          ]
        },
        {
          "output_type": "execute_result",
          "data": {
            "text/plain": [
              "<matplotlib.axes._subplots.AxesSubplot at 0x7f9c241be990>"
            ]
          },
          "metadata": {},
          "execution_count": 207
        },
        {
          "output_type": "display_data",
          "data": {
            "image/png": "[encoded data removed]",
            "text/plain": [
              "<Figure size 432x288 with 1 Axes>"
            ]
          },
          "metadata": {
            "needs_background": "light"
          }
        }
      ]
    },
    {
      "cell_type": "code",
      "metadata": {
        "colab": {
          "base_uri": "https://localhost:8080/",
          "height": 350
        },
        "id": "VrCqvuNmfo__",
        "outputId": "7041bf2a-2d87-4678-9cde-109b8fc6a273"
      },
      "source": [
        "sns.distplot(df['Annual_Premium'])"
      ],
      "execution_count": 177,
      "outputs": [
        {
          "output_type": "stream",
          "name": "stderr",
          "text": [
            "/usr/local/lib/python3.7/dist-packages/seaborn/distributions.py:2619: FutureWarning: `distplot` is a deprecated function and will be removed in a future version. Please adapt your code to use either `displot` (a figure-level function with similar flexibility) or `histplot` (an axes-level function for histograms).\n",
            "  warnings.warn(msg, FutureWarning)\n"
          ]
        },
        {
          "output_type": "execute_result",
          "data": {
            "text/plain": [
              "<matplotlib.axes._subplots.AxesSubplot at 0x7f9c24365750>"
            ]
          },
          "metadata": {},
          "execution_count": 177
        },
        {
          "output_type": "display_data",
          "data": {
            "image/png": "[encoded data removed]",
            "text/plain": [
              "<Figure size 432x288 with 1 Axes>"
            ]
          },
          "metadata": {
            "needs_background": "light"
          }
        }
      ]
    },
    {
      "cell_type": "markdown",
      "metadata": {
        "id": "c0vYDJ1nXXNU"
      },
      "source": [
        "Gender, Vehicle_Age and Vehicle_Damage need to be converted to numerical data."
      ]
    },
    {
      "cell_type": "code",
      "metadata": {
        "id": "vYLn20_oXYFb"
      },
      "source": [
        "gender = pd.get_dummies(df['Gender'], drop_first=True)\n",
        "df = pd.concat([df, gender], axis=1)\n",
        "df.drop('Gender', axis=1, inplace=True)\n",
        "\n",
        "damage = pd.get_dummies(df['Vehicle_Damage'], drop_first=True)\n",
        "df = pd.concat([df, damage], axis=1)\n",
        "df.drop('Vehicle_Damage', axis=1, inplace=True)"
      ],
      "execution_count": 12,
      "outputs": []
    },
    {
      "cell_type": "code",
      "metadata": {
        "id": "dfG-wzZXYu22"
      },
      "source": [
        "df.rename(columns={'Yes': 'Vehicle_Damage', 'Male': 'Gender_male'}, inplace=True)"
      ],
      "execution_count": 13,
      "outputs": []
    },
    {
      "cell_type": "code",
      "metadata": {
        "colab": {
          "base_uri": "https://localhost:8080/",
          "height": 203
        },
        "id": "ym4FZ4fsYBzJ",
        "outputId": "c96f6d1c-fc17-4eaa-807f-cc54a51924f5"
      },
      "source": [
        "df.head()"
      ],
      "execution_count": 190,
      "outputs": [
        {
          "output_type": "execute_result",
          "data": {
            "text/html": [
              "<div>\n",
              "<style scoped>\n",
              "    .dataframe tbody tr th:only-of-type {\n",
              "        vertical-align: middle;\n",
              "    }\n",
              "\n",
              "    .dataframe tbody tr th {\n",
              "        vertical-align: top;\n",
              "    }\n",
              "\n",
              "    .dataframe thead th {\n",
              "        text-align: right;\n",
              "    }\n",
              "</style>\n",
              "<table border=\"1\" class=\"dataframe\">\n",
              "  <thead>\n",
              "    <tr style=\"text-align: right;\">\n",
              "      <th></th>\n",
              "      <th>Age</th>\n",
              "      <th>Region_Code</th>\n",
              "      <th>Previously_Insured</th>\n",
              "      <th>Vehicle_Age</th>\n",
              "      <th>Annual_Premium</th>\n",
              "      <th>Policy_Sales_Channel</th>\n",
              "      <th>Vintage</th>\n",
              "      <th>Response</th>\n",
              "      <th>Gender_male</th>\n",
              "      <th>Vehicle_Damage</th>\n",
              "    </tr>\n",
              "  </thead>\n",
              "  <tbody>\n",
              "    <tr>\n",
              "      <th>0</th>\n",
              "      <td>3.784190</td>\n",
              "      <td>28.0</td>\n",
              "      <td>0</td>\n",
              "      <td>&gt; 2 Years</td>\n",
              "      <td>10.607921</td>\n",
              "      <td>26.0</td>\n",
              "      <td>217</td>\n",
              "      <td>1</td>\n",
              "      <td>1</td>\n",
              "      <td>1</td>\n",
              "    </tr>\n",
              "    <tr>\n",
              "      <th>1</th>\n",
              "      <td>4.330733</td>\n",
              "      <td>3.0</td>\n",
              "      <td>0</td>\n",
              "      <td>1-2 Year</td>\n",
              "      <td>10.420375</td>\n",
              "      <td>26.0</td>\n",
              "      <td>183</td>\n",
              "      <td>0</td>\n",
              "      <td>1</td>\n",
              "      <td>0</td>\n",
              "    </tr>\n",
              "    <tr>\n",
              "      <th>2</th>\n",
              "      <td>3.850148</td>\n",
              "      <td>28.0</td>\n",
              "      <td>0</td>\n",
              "      <td>&gt; 2 Years</td>\n",
              "      <td>10.553049</td>\n",
              "      <td>26.0</td>\n",
              "      <td>27</td>\n",
              "      <td>1</td>\n",
              "      <td>1</td>\n",
              "      <td>1</td>\n",
              "    </tr>\n",
              "    <tr>\n",
              "      <th>3</th>\n",
              "      <td>3.044522</td>\n",
              "      <td>11.0</td>\n",
              "      <td>1</td>\n",
              "      <td>&lt; 1 Year</td>\n",
              "      <td>10.261826</td>\n",
              "      <td>152.0</td>\n",
              "      <td>203</td>\n",
              "      <td>0</td>\n",
              "      <td>1</td>\n",
              "      <td>0</td>\n",
              "    </tr>\n",
              "    <tr>\n",
              "      <th>4</th>\n",
              "      <td>3.367296</td>\n",
              "      <td>41.0</td>\n",
              "      <td>1</td>\n",
              "      <td>&lt; 1 Year</td>\n",
              "      <td>10.221796</td>\n",
              "      <td>152.0</td>\n",
              "      <td>39</td>\n",
              "      <td>0</td>\n",
              "      <td>0</td>\n",
              "      <td>0</td>\n",
              "    </tr>\n",
              "  </tbody>\n",
              "</table>\n",
              "</div>"
            ],
            "text/plain": [
              "        Age  Region_Code  ...  Gender_male Vehicle_Damage\n",
              "0  3.784190         28.0  ...            1              1\n",
              "1  4.330733          3.0  ...            1              0\n",
              "2  3.850148         28.0  ...            1              1\n",
              "3  3.044522         11.0  ...            1              0\n",
              "4  3.367296         41.0  ...            0              0\n",
              "\n",
              "[5 rows x 10 columns]"
            ]
          },
          "metadata": {},
          "execution_count": 190
        }
      ]
    },
    {
      "cell_type": "code",
      "metadata": {
        "id": "iRcfAz1HY8Xy"
      },
      "source": [
        "age_dict = {'< 1 Year': 0, '1-2 Year': 1, '> 2 Years': 2}\n",
        "df['Vehicle_Age'] = df['Vehicle_Age'].map(age_dict)"
      ],
      "execution_count": 14,
      "outputs": []
    },
    {
      "cell_type": "code",
      "metadata": {
        "id": "vTsSsJq0JICO"
      },
      "source": [
        "df['Policy_Sales_Channel'] = df['Policy_Sales_Channel'].map(df.groupby(['Policy_Sales_Channel'])['Response'].mean().to_dict())"
      ],
      "execution_count": 15,
      "outputs": []
    },
    {
      "cell_type": "code",
      "metadata": {
        "id": "H0YBaxQWKgaH"
      },
      "source": [
        "df['Region_Code'] = df['Region_Code'].map(df.groupby(['Region_Code'])['Response'].mean().to_dict())"
      ],
      "execution_count": 16,
      "outputs": []
    },
    {
      "cell_type": "code",
      "metadata": {
        "id": "JqwoBsfJG9KC"
      },
      "source": [
        "region_code = pd.get_dummies(df['Region_Code'],drop_first=True,prefix='Region_code_')\n",
        "df = pd.concat([df,region_code],axis=1)\n",
        "df.drop('Region_Code',axis=1,inplace=True)\n",
        "\n",
        "policy_sales_channel = pd.get_dummies(df['Policy_Sales_Channel'],drop_first=True,prefix='policy_sale_channel')\n",
        "df = pd.concat([df,policy_sales_channel],axis=1)\n",
        "df.drop('Policy_Sales_Channel',axis=1,inplace=True)"
      ],
      "execution_count": 211,
      "outputs": []
    },
    {
      "cell_type": "code",
      "metadata": {
        "colab": {
          "base_uri": "https://localhost:8080/",
          "height": 203
        },
        "id": "qVXUws7kZABw",
        "outputId": "780f7fed-9ef4-4f18-b75a-2e901cc56926"
      },
      "source": [
        "df.head()"
      ],
      "execution_count": 17,
      "outputs": [
        {
          "output_type": "execute_result",
          "data": {
            "text/html": [
              "<div>\n",
              "<style scoped>\n",
              "    .dataframe tbody tr th:only-of-type {\n",
              "        vertical-align: middle;\n",
              "    }\n",
              "\n",
              "    .dataframe tbody tr th {\n",
              "        vertical-align: top;\n",
              "    }\n",
              "\n",
              "    .dataframe thead th {\n",
              "        text-align: right;\n",
              "    }\n",
              "</style>\n",
              "<table border=\"1\" class=\"dataframe\">\n",
              "  <thead>\n",
              "    <tr style=\"text-align: right;\">\n",
              "      <th></th>\n",
              "      <th>Age</th>\n",
              "      <th>Driving_License</th>\n",
              "      <th>Region_Code</th>\n",
              "      <th>Previously_Insured</th>\n",
              "      <th>Vehicle_Age</th>\n",
              "      <th>Annual_Premium</th>\n",
              "      <th>Policy_Sales_Channel</th>\n",
              "      <th>Vintage</th>\n",
              "      <th>Response</th>\n",
              "      <th>Gender_male</th>\n",
              "      <th>Vehicle_Damage</th>\n",
              "    </tr>\n",
              "  </thead>\n",
              "  <tbody>\n",
              "    <tr>\n",
              "      <th>0</th>\n",
              "      <td>0.544922</td>\n",
              "      <td>1</td>\n",
              "      <td>0.187163</td>\n",
              "      <td>0</td>\n",
              "      <td>2</td>\n",
              "      <td>0.513284</td>\n",
              "      <td>0.199385</td>\n",
              "      <td>0.716263</td>\n",
              "      <td>1</td>\n",
              "      <td>1</td>\n",
              "      <td>1</td>\n",
              "    </tr>\n",
              "    <tr>\n",
              "      <th>1</th>\n",
              "      <td>0.922651</td>\n",
              "      <td>1</td>\n",
              "      <td>0.127662</td>\n",
              "      <td>0</td>\n",
              "      <td>1</td>\n",
              "      <td>0.478063</td>\n",
              "      <td>0.199385</td>\n",
              "      <td>0.598616</td>\n",
              "      <td>0</td>\n",
              "      <td>1</td>\n",
              "      <td>0</td>\n",
              "    </tr>\n",
              "    <tr>\n",
              "      <th>2</th>\n",
              "      <td>0.590507</td>\n",
              "      <td>1</td>\n",
              "      <td>0.187163</td>\n",
              "      <td>0</td>\n",
              "      <td>2</td>\n",
              "      <td>0.502979</td>\n",
              "      <td>0.199385</td>\n",
              "      <td>0.058824</td>\n",
              "      <td>1</td>\n",
              "      <td>1</td>\n",
              "      <td>1</td>\n",
              "    </tr>\n",
              "    <tr>\n",
              "      <th>3</th>\n",
              "      <td>0.033720</td>\n",
              "      <td>1</td>\n",
              "      <td>0.112760</td>\n",
              "      <td>1</td>\n",
              "      <td>0</td>\n",
              "      <td>0.448288</td>\n",
              "      <td>0.028624</td>\n",
              "      <td>0.667820</td>\n",
              "      <td>0</td>\n",
              "      <td>1</td>\n",
              "      <td>0</td>\n",
              "    </tr>\n",
              "    <tr>\n",
              "      <th>4</th>\n",
              "      <td>0.256796</td>\n",
              "      <td>1</td>\n",
              "      <td>0.121776</td>\n",
              "      <td>1</td>\n",
              "      <td>0</td>\n",
              "      <td>0.440771</td>\n",
              "      <td>0.028624</td>\n",
              "      <td>0.100346</td>\n",
              "      <td>0</td>\n",
              "      <td>0</td>\n",
              "      <td>0</td>\n",
              "    </tr>\n",
              "  </tbody>\n",
              "</table>\n",
              "</div>"
            ],
            "text/plain": [
              "        Age  Driving_License  ...  Gender_male  Vehicle_Damage\n",
              "0  0.544922                1  ...            1               1\n",
              "1  0.922651                1  ...            1               0\n",
              "2  0.590507                1  ...            1               1\n",
              "3  0.033720                1  ...            1               0\n",
              "4  0.256796                1  ...            0               0\n",
              "\n",
              "[5 rows x 11 columns]"
            ]
          },
          "metadata": {},
          "execution_count": 17
        }
      ]
    },
    {
      "cell_type": "code",
      "metadata": {
        "id": "ucnum-tuGIDo"
      },
      "source": [
        "from sklearn.preprocessing import MinMaxScaler\n",
        "\n",
        "scaler = MinMaxScaler()\n",
        "scaler.fit(df[['Age']])\n",
        "\n",
        "df['Age'] = scaler.transform(df[['Age']])\n",
        "\n",
        "scaler = MinMaxScaler()\n",
        "scaler.fit(df[['Annual_Premium']])\n",
        "\n",
        "df['Annual_Premium'] = scaler.transform(df[['Annual_Premium']])\n",
        "\n",
        "scaler = MinMaxScaler()\n",
        "scaler.fit(df[['Vintage']])\n",
        "\n",
        "df['Vintage'] = scaler.transform(df[['Vintage']])"
      ],
      "execution_count": 17,
      "outputs": []
    },
    {
      "cell_type": "code",
      "metadata": {
        "colab": {
          "base_uri": "https://localhost:8080/"
        },
        "id": "XrIYQJFdJq5h",
        "outputId": "0a8fbea0-24c3-4e18-90a1-51495fc95eb4"
      },
      "source": [
        "df['Age']"
      ],
      "execution_count": 221,
      "outputs": [
        {
          "output_type": "execute_result",
          "data": {
            "text/plain": [
              "0         0.544922\n",
              "1         0.922651\n",
              "2         0.590507\n",
              "3         0.033720\n",
              "4         0.256796\n",
              "            ...   \n",
              "381104    0.904220\n",
              "381105    0.280227\n",
              "381106    0.033720\n",
              "381107    0.845780\n",
              "381108    0.575643\n",
              "Name: Age, Length: 381109, dtype: float64"
            ]
          },
          "metadata": {},
          "execution_count": 221
        }
      ]
    },
    {
      "cell_type": "markdown",
      "metadata": {
        "id": "O0TiELqphxby"
      },
      "source": [
        "# Handling Class Imbalance"
      ]
    },
    {
      "cell_type": "code",
      "metadata": {
        "id": "3WR4QR81jkiA"
      },
      "source": [
        "X = df.drop('Response',axis=1)\n",
        "y = df['Response']"
      ],
      "execution_count": 18,
      "outputs": []
    },
    {
      "cell_type": "code",
      "metadata": {
        "colab": {
          "base_uri": "https://localhost:8080/"
        },
        "id": "b7i85XnqlAbm",
        "outputId": "5b6036de-a796-46d3-e04a-f8c324e0a9f9"
      },
      "source": [
        "X.shape"
      ],
      "execution_count": 223,
      "outputs": [
        {
          "output_type": "execute_result",
          "data": {
            "text/plain": [
              "(381109, 213)"
            ]
          },
          "metadata": {},
          "execution_count": 223
        }
      ]
    },
    {
      "cell_type": "code",
      "metadata": {
        "colab": {
          "base_uri": "https://localhost:8080/"
        },
        "id": "QDWLXwetmOYz",
        "outputId": "be35ea6f-83f1-4925-db65-2c68193d5bd6"
      },
      "source": [
        "y.shape"
      ],
      "execution_count": 224,
      "outputs": [
        {
          "output_type": "execute_result",
          "data": {
            "text/plain": [
              "(381109,)"
            ]
          },
          "metadata": {},
          "execution_count": 224
        }
      ]
    },
    {
      "cell_type": "code",
      "metadata": {
        "id": "JuMQDZQAmzFz"
      },
      "source": [
        "from sklearn.model_selection import train_test_split\n",
        "\n",
        "X_train, X_test, y_train, y_test = train_test_split(X,y,test_size=0.2,stratify=y,random_state=42)"
      ],
      "execution_count": 19,
      "outputs": []
    },
    {
      "cell_type": "code",
      "metadata": {
        "colab": {
          "base_uri": "https://localhost:8080/"
        },
        "id": "jne2lRwpicFu",
        "outputId": "29eca9fd-235b-4689-969b-0e91ccd0e1b0"
      },
      "source": [
        "from imblearn.over_sampling import SMOTE\n",
        "oversample = SMOTE()\n",
        "X_resample, y_resample = oversample.fit_resample(X_train, y_train)"
      ],
      "execution_count": 20,
      "outputs": [
        {
          "output_type": "stream",
          "name": "stderr",
          "text": [
            "/usr/local/lib/python3.7/dist-packages/sklearn/externals/six.py:31: FutureWarning: The module is deprecated in version 0.21 and will be removed in version 0.23 since we've dropped support for Python 2.7. Please rely on the official version of six (https://pypi.org/project/six/).\n",
            "  \"(https://pypi.org/project/six/).\", FutureWarning)\n",
            "/usr/local/lib/python3.7/dist-packages/sklearn/utils/deprecation.py:144: FutureWarning: The sklearn.neighbors.base module is  deprecated in version 0.22 and will be removed in version 0.24. The corresponding classes / functions should instead be imported from sklearn.neighbors. Anything that cannot be imported from sklearn.neighbors is now part of the private API.\n",
            "  warnings.warn(message, FutureWarning)\n",
            "/usr/local/lib/python3.7/dist-packages/sklearn/utils/deprecation.py:87: FutureWarning: Function safe_indexing is deprecated; safe_indexing is deprecated in version 0.22 and will be removed in version 0.24.\n",
            "  warnings.warn(msg, category=FutureWarning)\n"
          ]
        }
      ]
    },
    {
      "cell_type": "code",
      "metadata": {
        "colab": {
          "base_uri": "https://localhost:8080/"
        },
        "id": "lXesFmZZk9nE",
        "outputId": "01c9e19f-dfc1-408b-de3d-ec226cf1f502"
      },
      "source": [
        "X_resample.shape"
      ],
      "execution_count": 129,
      "outputs": [
        {
          "output_type": "execute_result",
          "data": {
            "text/plain": [
              "(535038, 8)"
            ]
          },
          "metadata": {},
          "execution_count": 129
        }
      ]
    },
    {
      "cell_type": "code",
      "metadata": {
        "colab": {
          "base_uri": "https://localhost:8080/"
        },
        "id": "Nd0ARNgimbPV",
        "outputId": "c855b6a2-8a97-4151-d96e-744a71bd6c97"
      },
      "source": [
        "y_resample.shape"
      ],
      "execution_count": 130,
      "outputs": [
        {
          "output_type": "execute_result",
          "data": {
            "text/plain": [
              "(535038,)"
            ]
          },
          "metadata": {},
          "execution_count": 130
        }
      ]
    },
    {
      "cell_type": "markdown",
      "metadata": {
        "id": "ga0K5ORXmzbW"
      },
      "source": [
        ""
      ]
    },
    {
      "cell_type": "code",
      "metadata": {
        "colab": {
          "base_uri": "https://localhost:8080/"
        },
        "id": "307Gm-QDnUMc",
        "outputId": "5b396bd8-c233-49b0-b2e5-1697d0524236"
      },
      "source": [
        "X_train.shape"
      ],
      "execution_count": 93,
      "outputs": [
        {
          "output_type": "execute_result",
          "data": {
            "text/plain": [
              "(535038, 8)"
            ]
          },
          "metadata": {},
          "execution_count": 93
        }
      ]
    },
    {
      "cell_type": "code",
      "metadata": {
        "colab": {
          "base_uri": "https://localhost:8080/"
        },
        "id": "2MQRvsYOnXfr",
        "outputId": "75a4fe5d-5b17-460c-bf6e-2d10414c7245"
      },
      "source": [
        "X_test.shape"
      ],
      "execution_count": 94,
      "outputs": [
        {
          "output_type": "execute_result",
          "data": {
            "text/plain": [
              "(133760, 8)"
            ]
          },
          "metadata": {},
          "execution_count": 94
        }
      ]
    },
    {
      "cell_type": "code",
      "metadata": {
        "colab": {
          "base_uri": "https://localhost:8080/"
        },
        "id": "pqecFQbknbbn",
        "outputId": "579b40af-4350-4cc7-82d2-fa104d3ed764"
      },
      "source": [
        "y_train.shape"
      ],
      "execution_count": 95,
      "outputs": [
        {
          "output_type": "execute_result",
          "data": {
            "text/plain": [
              "(535038,)"
            ]
          },
          "metadata": {},
          "execution_count": 95
        }
      ]
    },
    {
      "cell_type": "code",
      "metadata": {
        "colab": {
          "base_uri": "https://localhost:8080/"
        },
        "id": "XMrG7_83nd2R",
        "outputId": "fb7146fe-0976-4c74-e3fc-1e06f6a4ca0d"
      },
      "source": [
        "y_train.shape"
      ],
      "execution_count": 96,
      "outputs": [
        {
          "output_type": "execute_result",
          "data": {
            "text/plain": [
              "(535038,)"
            ]
          },
          "metadata": {},
          "execution_count": 96
        }
      ]
    },
    {
      "cell_type": "markdown",
      "metadata": {
        "id": "vZPx0R3-nyuw"
      },
      "source": [
        ""
      ]
    },
    {
      "cell_type": "code",
      "metadata": {
        "id": "Cn-HYOO3nzHe"
      },
      "source": [
        "from sklearn.linear_model import LogisticRegression\n",
        "\n",
        "log_reg = LogisticRegression()\n",
        "log_reg.fit(X_resample,y_resample)\n",
        "\n",
        "y_pred = log_reg.predict(X_test)"
      ],
      "execution_count": 21,
      "outputs": []
    },
    {
      "cell_type": "code",
      "metadata": {
        "colab": {
          "base_uri": "https://localhost:8080/"
        },
        "id": "AqS7YisModr4",
        "outputId": "b2db5297-88f5-4424-821c-be829b4fc5f6"
      },
      "source": [
        "from sklearn.metrics import accuracy_score\n",
        "\n",
        "accuracy_score(y_test,y_pred)"
      ],
      "execution_count": 22,
      "outputs": [
        {
          "output_type": "execute_result",
          "data": {
            "text/plain": [
              "0.6859568103697096"
            ]
          },
          "metadata": {},
          "execution_count": 22
        }
      ]
    },
    {
      "cell_type": "code",
      "metadata": {
        "colab": {
          "base_uri": "https://localhost:8080/"
        },
        "id": "AuuQg_s6ouIi",
        "outputId": "abbcca85-c970-486d-ba6e-29d9dbf23e24"
      },
      "source": [
        "from sklearn.metrics import confusion_matrix\n",
        "\n",
        "confusion_matrix(y_test,y_pred)"
      ],
      "execution_count": 23,
      "outputs": [
        {
          "output_type": "execute_result",
          "data": {
            "text/plain": [
              "array([[43584, 23296],\n",
              "       [  641,  8701]])"
            ]
          },
          "metadata": {},
          "execution_count": 23
        }
      ]
    },
    {
      "cell_type": "code",
      "metadata": {
        "colab": {
          "base_uri": "https://localhost:8080/"
        },
        "id": "idH3XLlmpAON",
        "outputId": "f683b32f-67c0-4bfc-9f5a-0eba4fb92b0b"
      },
      "source": [
        "from sklearn.metrics import classification_report\n",
        "\n",
        "print(classification_report(y_test,y_pred))"
      ],
      "execution_count": 24,
      "outputs": [
        {
          "output_type": "stream",
          "name": "stdout",
          "text": [
            "              precision    recall  f1-score   support\n",
            "\n",
            "           0       0.99      0.65      0.78     66880\n",
            "           1       0.27      0.93      0.42      9342\n",
            "\n",
            "    accuracy                           0.69     76222\n",
            "   macro avg       0.63      0.79      0.60     76222\n",
            "weighted avg       0.90      0.69      0.74     76222\n",
            "\n"
          ]
        }
      ]
    },
    {
      "cell_type": "code",
      "metadata": {
        "colab": {
          "base_uri": "https://localhost:8080/"
        },
        "id": "nzzwcTZ0qZKk",
        "outputId": "e09264d5-93c6-46fa-831b-133d7f583280"
      },
      "source": [
        "from sklearn.metrics import roc_auc_score\n",
        "\n",
        "roc_auc_score(y_test,y_pred)"
      ],
      "execution_count": 25,
      "outputs": [
        {
          "output_type": "execute_result",
          "data": {
            "text/plain": [
              "0.7915298917580633"
            ]
          },
          "metadata": {},
          "execution_count": 25
        }
      ]
    },
    {
      "cell_type": "markdown",
      "metadata": {
        "id": "v2tLgTN7qYB6"
      },
      "source": [
        ""
      ]
    },
    {
      "cell_type": "code",
      "metadata": {
        "id": "bT1kBknuqkkR"
      },
      "source": [
        "from sklearn.neighbors import KNeighborsClassifier\n",
        "\n",
        "knn = KNeighborsClassifier()\n",
        "knn.fit(X_resample,y_resample)\n",
        "\n",
        "y_pred_knn = knn.predict(X_test)"
      ],
      "execution_count": 26,
      "outputs": []
    },
    {
      "cell_type": "code",
      "metadata": {
        "colab": {
          "base_uri": "https://localhost:8080/"
        },
        "id": "8ZwNWPApvOkT",
        "outputId": "0b0d2d86-28be-4f6f-e580-2b9d5e630bc3"
      },
      "source": [
        "accuracy_score(y_test,y_pred_knn)"
      ],
      "execution_count": 27,
      "outputs": [
        {
          "output_type": "execute_result",
          "data": {
            "text/plain": [
              "0.7542048227545853"
            ]
          },
          "metadata": {},
          "execution_count": 27
        }
      ]
    },
    {
      "cell_type": "code",
      "metadata": {
        "colab": {
          "base_uri": "https://localhost:8080/"
        },
        "id": "4LpXoBRpvTiN",
        "outputId": "931b5b23-a54c-4dc2-94ed-af0f4f4ca47c"
      },
      "source": [
        "confusion_matrix(y_test,y_pred_knn)"
      ],
      "execution_count": 28,
      "outputs": [
        {
          "output_type": "execute_result",
          "data": {
            "text/plain": [
              "array([[51563, 15317],\n",
              "       [ 3418,  5924]])"
            ]
          },
          "metadata": {},
          "execution_count": 28
        }
      ]
    },
    {
      "cell_type": "code",
      "metadata": {
        "colab": {
          "base_uri": "https://localhost:8080/"
        },
        "id": "ZjxWgZ51vYsk",
        "outputId": "6295ad30-3ded-4c56-e505-327650f4879c"
      },
      "source": [
        "print(classification_report(y_test,y_pred_knn))"
      ],
      "execution_count": 29,
      "outputs": [
        {
          "output_type": "stream",
          "name": "stdout",
          "text": [
            "              precision    recall  f1-score   support\n",
            "\n",
            "           0       0.94      0.77      0.85     66880\n",
            "           1       0.28      0.63      0.39      9342\n",
            "\n",
            "    accuracy                           0.75     76222\n",
            "   macro avg       0.61      0.70      0.62     76222\n",
            "weighted avg       0.86      0.75      0.79     76222\n",
            "\n"
          ]
        }
      ]
    },
    {
      "cell_type": "code",
      "metadata": {
        "colab": {
          "base_uri": "https://localhost:8080/"
        },
        "id": "T9pZ94uvxdbN",
        "outputId": "d757fc59-a02c-4e1a-95d6-3953e5e4a9ad"
      },
      "source": [
        "roc_auc_score(y_test,y_pred_knn)"
      ],
      "execution_count": 30,
      "outputs": [
        {
          "output_type": "execute_result",
          "data": {
            "text/plain": [
              "0.7025516628740504"
            ]
          },
          "metadata": {},
          "execution_count": 30
        }
      ]
    },
    {
      "cell_type": "markdown",
      "metadata": {
        "id": "VXJZ5AfKw60D"
      },
      "source": [
        ""
      ]
    },
    {
      "cell_type": "code",
      "metadata": {
        "id": "1bUzIo_Xw7PQ"
      },
      "source": [
        "from sklearn.tree import DecisionTreeClassifier\n",
        "\n",
        "tree = DecisionTreeClassifier(criterion='gini',random_state=42)\n",
        "tree.fit(X_resample,y_resample)\n",
        "\n",
        "y_pred_tree = tree.predict(X_test)"
      ],
      "execution_count": 31,
      "outputs": []
    },
    {
      "cell_type": "code",
      "metadata": {
        "colab": {
          "base_uri": "https://localhost:8080/"
        },
        "id": "YmH2i-RlxYbH",
        "outputId": "ac1ea43a-94ee-4478-aa25-d77b609edd01"
      },
      "source": [
        "accuracy_score(y_test,y_pred_tree)"
      ],
      "execution_count": 32,
      "outputs": [
        {
          "output_type": "execute_result",
          "data": {
            "text/plain": [
              "0.8177691480150088"
            ]
          },
          "metadata": {},
          "execution_count": 32
        }
      ]
    },
    {
      "cell_type": "code",
      "metadata": {
        "colab": {
          "base_uri": "https://localhost:8080/"
        },
        "id": "uY7Ck1TXxlWV",
        "outputId": "0bd5714c-2cd3-4d95-8644-95a68136f412"
      },
      "source": [
        "confusion_matrix(y_test,y_pred_tree)"
      ],
      "execution_count": 33,
      "outputs": [
        {
          "output_type": "execute_result",
          "data": {
            "text/plain": [
              "array([[59317,  7563],\n",
              "       [ 6327,  3015]])"
            ]
          },
          "metadata": {},
          "execution_count": 33
        }
      ]
    },
    {
      "cell_type": "code",
      "metadata": {
        "colab": {
          "base_uri": "https://localhost:8080/"
        },
        "id": "YV16eg8Zxq7n",
        "outputId": "1c932b1d-f226-42a4-f389-06e4905cfb3f"
      },
      "source": [
        "print(classification_report(y_test,y_pred_tree))"
      ],
      "execution_count": 34,
      "outputs": [
        {
          "output_type": "stream",
          "name": "stdout",
          "text": [
            "              precision    recall  f1-score   support\n",
            "\n",
            "           0       0.90      0.89      0.90     66880\n",
            "           1       0.29      0.32      0.30      9342\n",
            "\n",
            "    accuracy                           0.82     76222\n",
            "   macro avg       0.59      0.60      0.60     76222\n",
            "weighted avg       0.83      0.82      0.82     76222\n",
            "\n"
          ]
        }
      ]
    },
    {
      "cell_type": "code",
      "metadata": {
        "colab": {
          "base_uri": "https://localhost:8080/"
        },
        "id": "tuo8G4a3S_Z-",
        "outputId": "74446cf4-d5f9-4449-f5bf-838d98fbd86a"
      },
      "source": [
        "from sklearn.model_selection import RandomizedSearchCV\n",
        "from random import randint\n",
        "\n",
        "parms_dist = {'max_depth':[3,4,5,6,7,8,9,10],\n",
        "              'max_features': [1,2,3,4,5,6,7,8,9],\n",
        "              'min_samples_leaf': [1,2,3,4,5,6,7,8,9],\n",
        "              'criterion': ['gini','entropy']}\n",
        "\n",
        "trees = DecisionTreeClassifier()\n",
        "\n",
        "tree_cv = RandomizedSearchCV(trees,parms_dist,cv=5)\n",
        "\n",
        "tree_cv.fit(X_resample,y_resample)"
      ],
      "execution_count": 35,
      "outputs": [
        {
          "output_type": "execute_result",
          "data": {
            "text/plain": [
              "RandomizedSearchCV(cv=5, error_score=nan,\n",
              "                   estimator=DecisionTreeClassifier(ccp_alpha=0.0,\n",
              "                                                    class_weight=None,\n",
              "                                                    criterion='gini',\n",
              "                                                    max_depth=None,\n",
              "                                                    max_features=None,\n",
              "                                                    max_leaf_nodes=None,\n",
              "                                                    min_impurity_decrease=0.0,\n",
              "                                                    min_impurity_split=None,\n",
              "                                                    min_samples_leaf=1,\n",
              "                                                    min_samples_split=2,\n",
              "                                                    min_weight_fraction_leaf=0.0,\n",
              "                                                    presort='deprecated',\n",
              "                                                    random_state=None,\n",
              "                                                    splitter='best'),\n",
              "                   iid='deprecated', n_iter=10, n_jobs=None,\n",
              "                   param_distributions={'criterion': ['gini', 'entropy'],\n",
              "                                        'max_depth': [3, 4, 5, 6, 7, 8, 9, 10],\n",
              "                                        'max_features': [1, 2, 3, 4, 5, 6, 7, 8,\n",
              "                                                         9],\n",
              "                                        'min_samples_leaf': [1, 2, 3, 4, 5, 6,\n",
              "                                                             7, 8, 9]},\n",
              "                   pre_dispatch='2*n_jobs', random_state=None, refit=True,\n",
              "                   return_train_score=False, scoring=None, verbose=0)"
            ]
          },
          "metadata": {},
          "execution_count": 35
        }
      ]
    },
    {
      "cell_type": "code",
      "metadata": {
        "colab": {
          "base_uri": "https://localhost:8080/"
        },
        "id": "dcIB6sV0VkIf",
        "outputId": "8e6f8e90-94f1-42d4-d703-1377516e00d7"
      },
      "source": [
        "tree_cv.best_params_"
      ],
      "execution_count": 36,
      "outputs": [
        {
          "output_type": "execute_result",
          "data": {
            "text/plain": [
              "{'criterion': 'entropy',\n",
              " 'max_depth': 10,\n",
              " 'max_features': 6,\n",
              " 'min_samples_leaf': 3}"
            ]
          },
          "metadata": {},
          "execution_count": 36
        }
      ]
    },
    {
      "cell_type": "code",
      "metadata": {
        "id": "YntvRHicVjzb"
      },
      "source": [
        "tree_clf = DecisionTreeClassifier(max_depth=10, max_features=6, min_samples_leaf=3, criterion='entropy')"
      ],
      "execution_count": 37,
      "outputs": []
    },
    {
      "cell_type": "code",
      "metadata": {
        "id": "TDFO31qAW1eO"
      },
      "source": [
        "tree_clf.fit(X_resample,y_resample)\n",
        "\n",
        "y_pred_dtree = tree_clf.predict(X_test)"
      ],
      "execution_count": 38,
      "outputs": []
    },
    {
      "cell_type": "code",
      "metadata": {
        "colab": {
          "base_uri": "https://localhost:8080/"
        },
        "id": "78Aa67MyXCg1",
        "outputId": "5f098652-20a3-4088-d08c-93c465724aa7"
      },
      "source": [
        "accuracy_score(y_test,y_pred_dtree)"
      ],
      "execution_count": 39,
      "outputs": [
        {
          "output_type": "execute_result",
          "data": {
            "text/plain": [
              "0.7496260922043505"
            ]
          },
          "metadata": {},
          "execution_count": 39
        }
      ]
    },
    {
      "cell_type": "code",
      "metadata": {
        "colab": {
          "base_uri": "https://localhost:8080/"
        },
        "id": "nDuWfvA2XIjG",
        "outputId": "477d052e-c6e3-488e-a262-97294a61cb2f"
      },
      "source": [
        "print(classification_report(y_test,y_pred_dtree))"
      ],
      "execution_count": 40,
      "outputs": [
        {
          "output_type": "stream",
          "name": "stdout",
          "text": [
            "              precision    recall  f1-score   support\n",
            "\n",
            "           0       0.96      0.74      0.84     66880\n",
            "           1       0.30      0.79      0.44      9342\n",
            "\n",
            "    accuracy                           0.75     76222\n",
            "   macro avg       0.63      0.77      0.64     76222\n",
            "weighted avg       0.88      0.75      0.79     76222\n",
            "\n"
          ]
        }
      ]
    },
    {
      "cell_type": "code",
      "metadata": {
        "colab": {
          "base_uri": "https://localhost:8080/"
        },
        "id": "jIYYS1b7XVNz",
        "outputId": "bce2bf81-964c-4627-b677-af8806e4a4f7"
      },
      "source": [
        "roc_auc_score(y_test,y_pred_dtree)"
      ],
      "execution_count": 41,
      "outputs": [
        {
          "output_type": "execute_result",
          "data": {
            "text/plain": [
              "0.7679979876853926"
            ]
          },
          "metadata": {},
          "execution_count": 41
        }
      ]
    },
    {
      "cell_type": "code",
      "metadata": {
        "colab": {
          "base_uri": "https://localhost:8080/"
        },
        "id": "3v3CoCalgj6L",
        "outputId": "c0695889-12c4-48a0-eca0-36a3b2b92ea6"
      },
      "source": [
        "from sklearn.ensemble import AdaBoostClassifier\n",
        "\n",
        "ada=AdaBoostClassifier()\n",
        "lr= [0.01, 0.1,0.5, 1.0]\n",
        "search_grid = {'learning_rate':lr}\n",
        "search = RandomizedSearchCV(ada, search_grid, scoring='accuracy', n_jobs=1, cv=5, verbose=2)\n",
        "\n",
        "search.fit(X_resample,y_resample)"
      ],
      "execution_count": 49,
      "outputs": [
        {
          "output_type": "stream",
          "name": "stderr",
          "text": [
            "/usr/local/lib/python3.7/dist-packages/sklearn/model_selection/_search.py:281: UserWarning: The total space of parameters 4 is smaller than n_iter=10. Running 4 iterations. For exhaustive searches, use GridSearchCV.\n",
            "  % (grid_size, self.n_iter, grid_size), UserWarning)\n",
            "[Parallel(n_jobs=1)]: Using backend SequentialBackend with 1 concurrent workers.\n"
          ]
        },
        {
          "output_type": "stream",
          "name": "stdout",
          "text": [
            "Fitting 5 folds for each of 4 candidates, totalling 20 fits\n",
            "[CV] learning_rate=0.01 ..............................................\n",
            "[CV] ............................... learning_rate=0.01, total=  28.9s\n",
            "[CV] learning_rate=0.01 ..............................................\n"
          ]
        },
        {
          "output_type": "stream",
          "name": "stderr",
          "text": [
            "[Parallel(n_jobs=1)]: Done   1 out of   1 | elapsed:   28.9s remaining:    0.0s\n"
          ]
        },
        {
          "output_type": "stream",
          "name": "stdout",
          "text": [
            "[CV] ............................... learning_rate=0.01, total=  25.6s\n",
            "[CV] learning_rate=0.01 ..............................................\n",
            "[CV] ............................... learning_rate=0.01, total=  25.6s\n",
            "[CV] learning_rate=0.01 ..............................................\n",
            "[CV] ............................... learning_rate=0.01, total=  25.2s\n",
            "[CV] learning_rate=0.01 ..............................................\n",
            "[CV] ............................... learning_rate=0.01, total=  25.0s\n",
            "[CV] learning_rate=0.1 ...............................................\n",
            "[CV] ................................ learning_rate=0.1, total=  25.9s\n",
            "[CV] learning_rate=0.1 ...............................................\n",
            "[CV] ................................ learning_rate=0.1, total=  25.5s\n",
            "[CV] learning_rate=0.1 ...............................................\n",
            "[CV] ................................ learning_rate=0.1, total=  25.4s\n",
            "[CV] learning_rate=0.1 ...............................................\n",
            "[CV] ................................ learning_rate=0.1, total=  25.3s\n",
            "[CV] learning_rate=0.1 ...............................................\n",
            "[CV] ................................ learning_rate=0.1, total=  25.2s\n",
            "[CV] learning_rate=0.5 ...............................................\n",
            "[CV] ................................ learning_rate=0.5, total=  25.6s\n",
            "[CV] learning_rate=0.5 ...............................................\n",
            "[CV] ................................ learning_rate=0.5, total=  25.6s\n",
            "[CV] learning_rate=0.5 ...............................................\n",
            "[CV] ................................ learning_rate=0.5, total=  25.3s\n",
            "[CV] learning_rate=0.5 ...............................................\n",
            "[CV] ................................ learning_rate=0.5, total=  25.7s\n",
            "[CV] learning_rate=0.5 ...............................................\n",
            "[CV] ................................ learning_rate=0.5, total=  25.7s\n",
            "[CV] learning_rate=1.0 ...............................................\n",
            "[CV] ................................ learning_rate=1.0, total=  26.6s\n",
            "[CV] learning_rate=1.0 ...............................................\n",
            "[CV] ................................ learning_rate=1.0, total=  24.7s\n",
            "[CV] learning_rate=1.0 ...............................................\n",
            "[CV] ................................ learning_rate=1.0, total=  26.3s\n",
            "[CV] learning_rate=1.0 ...............................................\n",
            "[CV] ................................ learning_rate=1.0, total=  26.6s\n",
            "[CV] learning_rate=1.0 ...............................................\n",
            "[CV] ................................ learning_rate=1.0, total=  26.7s\n"
          ]
        },
        {
          "output_type": "stream",
          "name": "stderr",
          "text": [
            "[Parallel(n_jobs=1)]: Done  20 out of  20 | elapsed:  8.6min finished\n"
          ]
        },
        {
          "output_type": "execute_result",
          "data": {
            "text/plain": [
              "RandomizedSearchCV(cv=5, error_score=nan,\n",
              "                   estimator=AdaBoostClassifier(algorithm='SAMME.R',\n",
              "                                                base_estimator=None,\n",
              "                                                learning_rate=1.0,\n",
              "                                                n_estimators=50,\n",
              "                                                random_state=None),\n",
              "                   iid='deprecated', n_iter=10, n_jobs=1,\n",
              "                   param_distributions={'learning_rate': [0.01, 0.1, 0.5, 1.0]},\n",
              "                   pre_dispatch='2*n_jobs', random_state=None, refit=True,\n",
              "                   return_train_score=False, scoring='accuracy', verbose=2)"
            ]
          },
          "metadata": {},
          "execution_count": 49
        }
      ]
    },
    {
      "cell_type": "code",
      "metadata": {
        "colab": {
          "base_uri": "https://localhost:8080/"
        },
        "id": "Z9jcfGGylMSy",
        "outputId": "bca3192a-4d4a-4e47-89f0-01ba38b6f826"
      },
      "source": [
        "search.best_params_"
      ],
      "execution_count": 50,
      "outputs": [
        {
          "output_type": "execute_result",
          "data": {
            "text/plain": [
              "{'learning_rate': 1.0}"
            ]
          },
          "metadata": {},
          "execution_count": 50
        }
      ]
    },
    {
      "cell_type": "code",
      "metadata": {
        "colab": {
          "base_uri": "https://localhost:8080/"
        },
        "id": "30vA88p8oBI-",
        "outputId": "3b6fcb12-862a-49b0-b778-1c9996a53207"
      },
      "source": [
        "search.best_estimator_"
      ],
      "execution_count": 51,
      "outputs": [
        {
          "output_type": "execute_result",
          "data": {
            "text/plain": [
              "AdaBoostClassifier(algorithm='SAMME.R', base_estimator=None, learning_rate=1.0,\n",
              "                   n_estimators=50, random_state=None)"
            ]
          },
          "metadata": {},
          "execution_count": 51
        }
      ]
    },
    {
      "cell_type": "code",
      "metadata": {
        "id": "slkHpYiKoMMg"
      },
      "source": [
        "ada_clf = AdaBoostClassifier()\n",
        "\n",
        "ada_clf.fit(X_resample,y_resample)\n",
        "\n",
        "y_pred_ada = ada_clf.predict(X_test)"
      ],
      "execution_count": 63,
      "outputs": []
    },
    {
      "cell_type": "code",
      "metadata": {
        "colab": {
          "base_uri": "https://localhost:8080/"
        },
        "id": "KXFHEK73oeEf",
        "outputId": "e57c3607-d081-4184-b947-b0733c3ca17c"
      },
      "source": [
        "print(classification_report(y_test,y_pred_ada))"
      ],
      "execution_count": 64,
      "outputs": [
        {
          "output_type": "stream",
          "name": "stdout",
          "text": [
            "              precision    recall  f1-score   support\n",
            "\n",
            "           0       0.97      0.71      0.82     66880\n",
            "           1       0.29      0.86      0.44      9342\n",
            "\n",
            "    accuracy                           0.73     76222\n",
            "   macro avg       0.63      0.79      0.63     76222\n",
            "weighted avg       0.89      0.73      0.77     76222\n",
            "\n"
          ]
        }
      ]
    },
    {
      "cell_type": "code",
      "metadata": {
        "colab": {
          "base_uri": "https://localhost:8080/"
        },
        "id": "arX2stANowQm",
        "outputId": "fde69d96-a496-4820-cf30-8f9171ba7007"
      },
      "source": [
        "roc_auc_score(y_test,y_pred_ada)"
      ],
      "execution_count": 65,
      "outputs": [
        {
          "output_type": "execute_result",
          "data": {
            "text/plain": [
              "0.7865020054003169"
            ]
          },
          "metadata": {},
          "execution_count": 65
        }
      ]
    },
    {
      "cell_type": "code",
      "metadata": {
        "colab": {
          "base_uri": "https://localhost:8080/"
        },
        "id": "00KVEflcvLC4",
        "outputId": "81d4e980-d82e-4e9d-85e1-17241aff6510"
      },
      "source": [
        "from sklearn.ensemble import GradientBoostingClassifier\n",
        "gb = GradientBoostingClassifier(random_state = 42)\n",
        "gb.fit(X_resample, y_resample)\n"
      ],
      "execution_count": 66,
      "outputs": [
        {
          "output_type": "execute_result",
          "data": {
            "text/plain": [
              "GradientBoostingClassifier(ccp_alpha=0.0, criterion='friedman_mse', init=None,\n",
              "                           learning_rate=0.1, loss='deviance', max_depth=3,\n",
              "                           max_features=None, max_leaf_nodes=None,\n",
              "                           min_impurity_decrease=0.0, min_impurity_split=None,\n",
              "                           min_samples_leaf=1, min_samples_split=2,\n",
              "                           min_weight_fraction_leaf=0.0, n_estimators=100,\n",
              "                           n_iter_no_change=None, presort='deprecated',\n",
              "                           random_state=42, subsample=1.0, tol=0.0001,\n",
              "                           validation_fraction=0.1, verbose=0,\n",
              "                           warm_start=False)"
            ]
          },
          "metadata": {},
          "execution_count": 66
        }
      ]
    },
    {
      "cell_type": "code",
      "metadata": {
        "id": "xKXEd3Bzwykl"
      },
      "source": [
        "y_pred_gb = gb.predict(X_test)"
      ],
      "execution_count": 67,
      "outputs": []
    },
    {
      "cell_type": "code",
      "metadata": {
        "colab": {
          "base_uri": "https://localhost:8080/"
        },
        "id": "U50zTWavxKDe",
        "outputId": "20628981-cbd8-4afe-bc55-249d6accb746"
      },
      "source": [
        "print(classification_report(y_test,y_pred_gb))"
      ],
      "execution_count": 68,
      "outputs": [
        {
          "output_type": "stream",
          "name": "stdout",
          "text": [
            "              precision    recall  f1-score   support\n",
            "\n",
            "           0       0.97      0.73      0.83     66880\n",
            "           1       0.30      0.84      0.44      9342\n",
            "\n",
            "    accuracy                           0.74     76222\n",
            "   macro avg       0.64      0.78      0.64     76222\n",
            "weighted avg       0.89      0.74      0.79     76222\n",
            "\n"
          ]
        }
      ]
    },
    {
      "cell_type": "code",
      "metadata": {
        "colab": {
          "base_uri": "https://localhost:8080/"
        },
        "id": "-I3x7FFqxVNh",
        "outputId": "cb4dc70f-ee21-43a8-8f7c-c9ea24c9da52"
      },
      "source": [
        "roc_auc_score(y_test,y_pred_gb)"
      ],
      "execution_count": 69,
      "outputs": [
        {
          "output_type": "execute_result",
          "data": {
            "text/plain": [
              "0.7833829993859087"
            ]
          },
          "metadata": {},
          "execution_count": 69
        }
      ]
    }
  ]
}